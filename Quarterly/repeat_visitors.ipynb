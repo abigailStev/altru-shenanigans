{
 "cells": [
  {
   "cell_type": "code",
   "execution_count": 1,
   "id": "56b0ae63",
   "metadata": {},
   "outputs": [],
   "source": [
    "import numpy as np\n",
    "import pandas as pd\n",
    "from IPython.display import display"
   ]
  },
  {
   "cell_type": "code",
   "execution_count": 2,
   "id": "5279f4b0",
   "metadata": {},
   "outputs": [
    {
     "name": "stdout",
     "output_type": "stream",
     "text": [
      "<class 'pandas.core.frame.DataFrame'>\n",
      "RangeIndex: 6824 entries, 0 to 6823\n",
      "Data columns (total 5 columns):\n",
      " #   Column             Non-Null Count  Dtype         \n",
      "---  ------             --------------  -----         \n",
      " 0   Last name          6817 non-null   object        \n",
      " 1   First name         6823 non-null   object        \n",
      " 2   Lookup ID          6824 non-null   object        \n",
      " 3   Transaction date   6824 non-null   datetime64[ns]\n",
      " 4   Sales method type  6824 non-null   object        \n",
      "dtypes: datetime64[ns](1), object(4)\n",
      "memory usage: 266.7+ KB\n",
      "None\n",
      "<class 'pandas.core.frame.DataFrame'>\n",
      "RangeIndex: 4266 entries, 0 to 4265\n",
      "Data columns (total 5 columns):\n",
      " #   Column             Non-Null Count  Dtype         \n",
      "---  ------             --------------  -----         \n",
      " 0   Last name          4262 non-null   object        \n",
      " 1   First name         4264 non-null   object        \n",
      " 2   Lookup ID          4266 non-null   object        \n",
      " 3   Transaction date   4266 non-null   datetime64[ns]\n",
      " 4   Sales method type  4266 non-null   object        \n",
      "dtypes: datetime64[ns](1), object(4)\n",
      "memory usage: 166.8+ KB\n",
      "None\n"
     ]
    }
   ],
   "source": [
    "ay2223_xlsx_file = \"./AY22-23.xlsx\"\n",
    "ay2324_xlsx_file = \"./AY23-24.xlsx\"\n",
    "\n",
    "ay22_23 = pd.read_excel(ay2223_xlsx_file, engine='openpyxl')\n",
    "ay22_23.rename(columns={'Constituent\\Last/Organization/Group/Household name': 'Last name', \n",
    "                        'Constituent\\First name': 'First name', \n",
    "                        'Constituent\\Lookup ID': 'Lookup ID'}, inplace=True)\n",
    "print(ay22_23.info())\n",
    "ay23_24 = pd.read_excel(ay2324_xlsx_file, engine='openpyxl')\n",
    "ay23_24.rename(columns={'Constituent\\Last/Organization/Group/Household name': 'Last name', \n",
    "                        'Constituent\\First name': 'First name', \n",
    "                        'Constituent\\Lookup ID': 'Lookup ID'}, inplace=True)\n",
    "print(ay23_24.info())"
   ]
  },
  {
   "cell_type": "code",
   "execution_count": 5,
   "id": "81c4bb41",
   "metadata": {},
   "outputs": [
    {
     "name": "stdout",
     "output_type": "stream",
     "text": [
      "6651\n",
      "3984\n"
     ]
    }
   ],
   "source": [
    "ay22_23 = ay22_23.drop_duplicates()\n",
    "print(len(ay22_23))\n",
    "ay23_24 = ay23_24.drop_duplicates()\n",
    "print(len(ay23_24))"
   ]
  },
  {
   "cell_type": "code",
   "execution_count": 6,
   "id": "4ace7e07",
   "metadata": {},
   "outputs": [
    {
     "data": {
      "text/plain": [
       "0       False\n",
       "1       False\n",
       "2       False\n",
       "3       False\n",
       "4       False\n",
       "        ...  \n",
       "4260     True\n",
       "4261     True\n",
       "4263     True\n",
       "4264     True\n",
       "4265     True\n",
       "Name: Lookup ID, Length: 3984, dtype: bool"
      ]
     },
     "execution_count": 6,
     "metadata": {},
     "output_type": "execute_result"
    }
   ],
   "source": [
    "ay23_24['Lookup ID'].isin(ay22_23['Lookup ID'].unique().tolist())"
   ]
  },
  {
   "cell_type": "code",
   "execution_count": 7,
   "id": "10953fcc",
   "metadata": {},
   "outputs": [],
   "source": [
    "repeats = ay23_24[ay23_24['Lookup ID'].isin(ay22_23['Lookup ID'].unique().tolist())]"
   ]
  },
  {
   "cell_type": "code",
   "execution_count": 8,
   "id": "7dd39865",
   "metadata": {},
   "outputs": [
    {
     "data": {
      "text/plain": [
       "655"
      ]
     },
     "execution_count": 8,
     "metadata": {},
     "output_type": "execute_result"
    }
   ],
   "source": [
    "len(repeats['Lookup ID'].unique())"
   ]
  },
  {
   "cell_type": "code",
   "execution_count": 27,
   "id": "21d13c9a",
   "metadata": {},
   "outputs": [
    {
     "name": "stdout",
     "output_type": "stream",
     "text": [
      "<class 'pandas.core.frame.DataFrame'>\n",
      "RangeIndex: 4074 entries, 0 to 4073\n",
      "Data columns (total 4 columns):\n",
      " #   Column                                 Non-Null Count  Dtype         \n",
      "---  ------                                 --------------  -----         \n",
      " 0   Lookup ID                              4074 non-null   object        \n",
      " 1   Sales Orders\\Reservation\\Arrival date  258 non-null    datetime64[ns]\n",
      " 2   Last name                              4074 non-null   object        \n",
      " 3   First name                             4069 non-null   object        \n",
      "dtypes: datetime64[ns](1), object(3)\n",
      "memory usage: 127.4+ KB\n",
      "None\n"
     ]
    }
   ],
   "source": [
    "fy24_xlsx_file = \"./Attendees by Date FY24.xlsx\"\n",
    "fy24 = pd.read_excel(fy24_xlsx_file, engine='openpyxl')\n",
    "fy24.rename(columns={'Last/Organization/Group/Household name': 'Last name'}, inplace=True)\n",
    "print(fy24.info())"
   ]
  },
  {
   "cell_type": "code",
   "execution_count": 28,
   "id": "f183e0a4",
   "metadata": {},
   "outputs": [
    {
     "data": {
      "text/html": [
       "<div>\n",
       "<style scoped>\n",
       "    .dataframe tbody tr th:only-of-type {\n",
       "        vertical-align: middle;\n",
       "    }\n",
       "\n",
       "    .dataframe tbody tr th {\n",
       "        vertical-align: top;\n",
       "    }\n",
       "\n",
       "    .dataframe thead th {\n",
       "        text-align: right;\n",
       "    }\n",
       "</style>\n",
       "<table border=\"1\" class=\"dataframe\">\n",
       "  <thead>\n",
       "    <tr style=\"text-align: right;\">\n",
       "      <th></th>\n",
       "      <th>index</th>\n",
       "      <th>size</th>\n",
       "    </tr>\n",
       "  </thead>\n",
       "  <tbody>\n",
       "    <tr>\n",
       "      <th>0</th>\n",
       "      <td>8-10001157</td>\n",
       "      <td>1</td>\n",
       "    </tr>\n",
       "    <tr>\n",
       "      <th>1</th>\n",
       "      <td>8-10001273</td>\n",
       "      <td>1</td>\n",
       "    </tr>\n",
       "    <tr>\n",
       "      <th>2</th>\n",
       "      <td>8-10001283</td>\n",
       "      <td>1</td>\n",
       "    </tr>\n",
       "    <tr>\n",
       "      <th>3</th>\n",
       "      <td>8-10001367</td>\n",
       "      <td>6</td>\n",
       "    </tr>\n",
       "    <tr>\n",
       "      <th>4</th>\n",
       "      <td>8-10001396</td>\n",
       "      <td>4</td>\n",
       "    </tr>\n",
       "    <tr>\n",
       "      <th>...</th>\n",
       "      <td>...</td>\n",
       "      <td>...</td>\n",
       "    </tr>\n",
       "    <tr>\n",
       "      <th>3652</th>\n",
       "      <td>8-10033375</td>\n",
       "      <td>1</td>\n",
       "    </tr>\n",
       "    <tr>\n",
       "      <th>3653</th>\n",
       "      <td>8-10033376</td>\n",
       "      <td>1</td>\n",
       "    </tr>\n",
       "    <tr>\n",
       "      <th>3654</th>\n",
       "      <td>8-10033377</td>\n",
       "      <td>1</td>\n",
       "    </tr>\n",
       "    <tr>\n",
       "      <th>3655</th>\n",
       "      <td>8-10033378</td>\n",
       "      <td>1</td>\n",
       "    </tr>\n",
       "    <tr>\n",
       "      <th>3656</th>\n",
       "      <td>8-10033379</td>\n",
       "      <td>1</td>\n",
       "    </tr>\n",
       "  </tbody>\n",
       "</table>\n",
       "<p>3657 rows × 2 columns</p>\n",
       "</div>"
      ],
      "text/plain": [
       "           index  size\n",
       "0     8-10001157     1\n",
       "1     8-10001273     1\n",
       "2     8-10001283     1\n",
       "3     8-10001367     6\n",
       "4     8-10001396     4\n",
       "...          ...   ...\n",
       "3652  8-10033375     1\n",
       "3653  8-10033376     1\n",
       "3654  8-10033377     1\n",
       "3655  8-10033378     1\n",
       "3656  8-10033379     1\n",
       "\n",
       "[3657 rows x 2 columns]"
      ]
     },
     "metadata": {},
     "output_type": "display_data"
    }
   ],
   "source": [
    "reps = fy24.groupby(fy24['Lookup ID'].tolist(), as_           index=False).size()\n",
    "display(reps)"
   ]
  },
  {
   "cell_type": "code",
   "execution_count": 29,
   "id": "aff2036f",
   "metadata": {},
   "outputs": [
    {
     "data": {
      "text/plain": [
       "184"
      ]
     },
     "execution_count": 29,
     "metadata": {},
     "output_type": "execute_result"
    }
   ],
   "source": [
    "len(sum(np.where(reps['size'] > 1)))"
   ]
  },
  {
   "cell_type": "code",
   "execution_count": null,
   "id": "7310dd43",
   "metadata": {},
   "outputs": [],
   "source": []
  }
 ],
 "metadata": {
  "kernelspec": {
   "display_name": "Python 3 (ipykernel)",
   "language": "python",
   "name": "python3"
  },
  "language_info": {
   "codemirror_mode": {
    "name": "ipython",
    "version": 3
   },
   "file_extension": ".py",
   "mimetype": "text/x-python",
   "name": "python",
   "nbconvert_exporter": "python",
   "pygments_lexer": "ipython3",
   "version": "3.11.7"
  }
 },
 "nbformat": 4,
 "nbformat_minor": 5
}
