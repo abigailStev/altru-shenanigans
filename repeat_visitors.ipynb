{
 "cells": [
  {
   "cell_type": "code",
   "execution_count": 1,
   "id": "be7c45b6",
   "metadata": {},
   "outputs": [],
   "source": [
    "import numpy as np\n",
    "import pandas as pd\n",
    "from IPython.display import display"
   ]
  },
  {
   "cell_type": "code",
   "execution_count": 8,
   "id": "3f7a6d3c",
   "metadata": {},
   "outputs": [
    {
     "name": "stdout",
     "output_type": "stream",
     "text": [
      "<class 'pandas.core.frame.DataFrame'>\n",
      "RangeIndex: 5660 entries, 0 to 5659\n",
      "Data columns (total 4 columns):\n",
      " #   Column      Non-Null Count  Dtype \n",
      "---  ------      --------------  ----- \n",
      " 0   Last name   5653 non-null   object\n",
      " 1   First name  5659 non-null   object\n",
      " 2   Lookup ID   5660 non-null   object\n",
      " 3   Count       5660 non-null   int64 \n",
      "dtypes: int64(1), object(3)\n",
      "memory usage: 177.0+ KB\n",
      "None\n",
      "<class 'pandas.core.frame.DataFrame'>\n",
      "RangeIndex: 2896 entries, 0 to 2895\n",
      "Data columns (total 4 columns):\n",
      " #   Column      Non-Null Count  Dtype \n",
      "---  ------      --------------  ----- \n",
      " 0   Last name   2893 non-null   object\n",
      " 1   First name  2894 non-null   object\n",
      " 2   Lookup ID   2896 non-null   object\n",
      " 3   Count       2896 non-null   int64 \n",
      "dtypes: int64(1), object(3)\n",
      "memory usage: 90.6+ KB\n",
      "None\n"
     ]
    }
   ],
   "source": [
    "ay2223_xlsx_file = \"./AY22-23.xlsx\"\n",
    "ay2324_xlsx_file = \"./AY23-24.xlsx\"\n",
    "\n",
    "ay22_23 = pd.read_excel(ay2223_xlsx_file, engine='openpyxl')\n",
    "ay22_23.rename(columns={'Constituent\\Last/Organization/Group/Household name': 'Last name', \n",
    "                        'Constituent\\First name': 'First name', \n",
    "                        'Constituent\\Lookup ID': 'Lookup ID', \n",
    "                        'COUNT(Lookup ID)': 'Count'}, inplace=True)\n",
    "print(ay22_23.info())\n",
    "ay23_24 = pd.read_excel(ay2324_xlsx_file, engine='openpyxl')\n",
    "ay23_24.rename(columns={'Constituent\\Last/Organization/Group/Household name': 'Last name', \n",
    "                        'Constituent\\First name': 'First name', \n",
    "                        'Constituent\\Lookup ID': 'Lookup ID', \n",
    "                        'COUNT(Lookup ID)': 'Count'}, inplace=True)\n",
    "print(ay23_24.info())"
   ]
  },
  {
   "cell_type": "code",
   "execution_count": 9,
   "id": "5957dee0",
   "metadata": {},
   "outputs": [
    {
     "data": {
      "text/plain": [
       "0        True\n",
       "1       False\n",
       "2       False\n",
       "3       False\n",
       "4        True\n",
       "        ...  \n",
       "2891    False\n",
       "2892    False\n",
       "2893    False\n",
       "2894     True\n",
       "2895    False\n",
       "Name: Lookup ID, Length: 2896, dtype: bool"
      ]
     },
     "execution_count": 9,
     "metadata": {},
     "output_type": "execute_result"
    }
   ],
   "source": [
    "ay23_24['Lookup ID'].isin(ay22_23['Lookup ID'].tolist())"
   ]
  },
  {
   "cell_type": "code",
   "execution_count": 13,
   "id": "e0ea46d1",
   "metadata": {},
   "outputs": [
    {
     "data": {
      "text/plain": [
       "655"
      ]
     },
     "execution_count": 13,
     "metadata": {},
     "output_type": "execute_result"
    }
   ],
   "source": [
    "sum(ay23_24['Lookup ID'].isin(ay22_23['Lookup ID'].tolist()))"
   ]
  },
  {
   "cell_type": "code",
   "execution_count": null,
   "id": "8195d9bc",
   "metadata": {},
   "outputs": [],
   "source": []
  }
 ],
 "metadata": {
  "kernelspec": {
   "display_name": "Python 3 (ipykernel)",
   "language": "python",
   "name": "python3"
  },
  "language_info": {
   "codemirror_mode": {
    "name": "ipython",
    "version": 3
   },
   "file_extension": ".py",
   "mimetype": "text/x-python",
   "name": "python",
   "nbconvert_exporter": "python",
   "pygments_lexer": "ipython3",
   "version": "3.11.7"
  }
 },
 "nbformat": 4,
 "nbformat_minor": 5
}
