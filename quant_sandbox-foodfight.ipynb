{
 "cells": [
  {
   "cell_type": "markdown",
   "id": "cbd3baf5",
   "metadata": {},
   "source": [
    "# quant sandbox: *Food Fight!*\n",
    "This notebook lets me play around with quantitative analysis of Altru output. Currently set up to take two files, one with program data and another with attendee data, and customized for the Food Fight program series."
   ]
  },
  {
   "cell_type": "markdown",
   "id": "2119c4eb",
   "metadata": {},
   "source": [
    "**HOW TO USE THIS JUPYTER NOTEBOOK:** highlight the cell by clicking on it. You should see a green or blue box surround it. Then hold the Shift key and press Enter. You should see the highlight box move on to the next cell, and it will print or plot whatever the code says to do.\n",
    "Try it here. Click on the gray text box below to highlight the cell, then hold Shift and press Enter."
   ]
  },
  {
   "cell_type": "code",
   "execution_count": 1,
   "id": "e3f26188",
   "metadata": {},
   "outputs": [
    {
     "name": "stdout",
     "output_type": "stream",
     "text": [
      "Hello world!\n"
     ]
    }
   ],
   "source": [
    "print(\"Hello world!\")"
   ]
  },
  {
   "cell_type": "markdown",
   "id": "1e9ce74c",
   "metadata": {},
   "source": [
    "If it says **Hello world!** to you below the gray cell, it worked!"
   ]
  },
  {
   "cell_type": "markdown",
   "id": "f51c9611",
   "metadata": {},
   "source": [
    "## Import statements, classes, and methods. \n",
    "Run these (Shift, Enter) then keep going. They shouldn't spit anything out at you. If they do, tell Abbie."
   ]
  },
  {
   "cell_type": "code",
   "execution_count": 2,
   "id": "23b30940",
   "metadata": {},
   "outputs": [],
   "source": [
    "import numpy as np\n",
    "import pandas as pd\n",
    "import seaborn as sns\n",
    "sns.set_theme()\n",
    "sns.set_style('whitegrid')\n",
    "import matplotlib.pyplot as plt\n",
    "import ipywidgets as widgets\n",
    "import traitlets\n",
    "from IPython.display import display\n",
    "from tkinter import Tk, filedialog"
   ]
  },
  {
   "cell_type": "code",
   "execution_count": 3,
   "id": "ed3fca77",
   "metadata": {},
   "outputs": [],
   "source": [
    "class SelectFilesButton(widgets.Button):\n",
    "    \"\"\"A file widget that leverages tkinter.filedialog.\"\"\"\n",
    "\n",
    "    def __init__(self):\n",
    "        super(SelectFilesButton, self).__init__()\n",
    "        # Add the selected_files trait\n",
    "        self.add_traits(files=traitlets.traitlets.List())\n",
    "        # Create the button.\n",
    "        self.description = \"Select Files\"\n",
    "        self.icon = \"square-o\"\n",
    "        self.style.button_color = \"orange\"\n",
    "        # Set on click behavior.\n",
    "        self.on_click(self.select_files)\n",
    "\n",
    "    @staticmethod\n",
    "    def select_files(b):\n",
    "        \"\"\"Generate instance of tkinter.filedialog.\n",
    "\n",
    "        Parameters\n",
    "        ----------\n",
    "        b : obj:\n",
    "            An instance of ipywidgets.widgets.Button \n",
    "        \"\"\"\n",
    "        # Create Tk root\n",
    "        root = Tk()\n",
    "        # Hide the main window\n",
    "        root.withdraw()\n",
    "        # Raise the root to the top of all windows.\n",
    "        root.call('wm', 'attributes', '.', '-topmost', True)\n",
    "        # List of selected fileswill be set to b.value\n",
    "        b.files = filedialog.askopenfilename(multiple=True)\n",
    "\n",
    "        b.description = \"Files Selected\"\n",
    "        b.icon = \"check-square-o\"\n",
    "        b.style.button_color = \"lightgreen\"    "
   ]
  },
  {
   "cell_type": "code",
   "execution_count": 4,
   "id": "8e7e01ba",
   "metadata": {},
   "outputs": [],
   "source": [
    "def convert_yesno_to_bool(yesno):\n",
    "    \"\"\" This method converts 'yes' and 'no' in an Altru excel file to boolean values.\"\"\"\n",
    "    if yesno.casefold() == \"yes\".casefold():\n",
    "        return True\n",
    "    elif yesno.casefold() == \"no\".casefold():\n",
    "        return False\n",
    "    else:\n",
    "        return np.nan"
   ]
  },
  {
   "cell_type": "code",
   "execution_count": 5,
   "id": "1e9deee6",
   "metadata": {},
   "outputs": [],
   "source": [
    "def clean_up_df(raw_df):\n",
    "    \"\"\" \n",
    "    This method takes a dataframe with program information like Name, Location, Date, Time, Capacity, \n",
    "    and two rows for Attended, one with a number for 'Yes' and another with a number for 'No'\n",
    "    \"\"\"\n",
    "    clean_df = pd.DataFrame(columns=('Name', 'Type', 'Location', 'Date', 'Time', 'Day', \n",
    "                                     'Capacity', 'Preregistered', 'Attended', 'Percentage'))\n",
    "    clean_df['Name'] = raw_df['Name'].unique()\n",
    "#     print(clean_df['Name'])\n",
    "    for i in range(len(clean_df)):\n",
    "        namemask = raw_df.where(raw_df['Name'] == clean_df['Name'][i])\n",
    "        fvi = namemask.first_valid_index()\n",
    "        clean_df['Location'][i] = namemask['Location'][fvi]\n",
    "        clean_df['Date'][i] = pd.to_datetime(namemask['Date'][fvi])\n",
    "        clean_df['Time'][i] = namemask['Time'][fvi]\n",
    "        clean_df['Capacity'][i] = namemask['Capacity'][fvi]\n",
    "        yes_fvi = namemask.where(namemask['Attended'] == \"Yes\").first_valid_index()\n",
    "        if yes_fvi == None:\n",
    "            clean_df['Attended'][i] = 0\n",
    "        else:\n",
    "            clean_df['Attended'][i] = namemask['Number'][yes_fvi]\n",
    "        no_fvi = namemask.where(namemask['Attended'] == \"No\").first_valid_index()\n",
    "        if no_fvi == None:\n",
    "            clean_df['Preregistered'][i] = clean_df['Attended'][i]\n",
    "        else:\n",
    "            clean_df['Preregistered'][i] = clean_df['Attended'][i] + namemask['Number'][no_fvi]\n",
    "                                                                                    \n",
    "    clean_df['Percentage'] = clean_df['Attended'] / clean_df['Preregistered']\n",
    "    clean_df.sort_values(by=\"Date\", inplace=True)\n",
    "    clean_df['Day'] = [j.strftime('%a') for j in clean_df['Date']]\n",
    "\n",
    "    return clean_df"
   ]
  },
  {
   "cell_type": "markdown",
   "id": "f47ad9c7",
   "metadata": {},
   "source": [
    "## Run the cell below, then click the button to select your data file to load. "
   ]
  },
  {
   "cell_type": "markdown",
   "id": "d58656e2",
   "metadata": {},
   "source": [
    "The code expects an .xlsx data file made in Altru with the 'Program Query: Food Fight!' ad-hoc query. This file makes columns for the program name, program location, program date and time, participant capacity as specified in Altru, number of spaces still available, then two rows for each program: one with the number of pre-registrants who attended, and one with the number of pre-registrants who did not."
   ]
  },
  {
   "cell_type": "code",
   "execution_count": 6,
   "id": "42a3bd97",
   "metadata": {},
   "outputs": [],
   "source": [
    "# button1 = SelectFilesButton()\n",
    "# button1  # This will display the button in the context of Jupyter Notebook"
   ]
  },
  {
   "cell_type": "markdown",
   "id": "85e687d5",
   "metadata": {},
   "source": [
    "Run this next cell to assign that file name to a variable and read in the excel file, then make a Pandas Dataframe called `programs` with the cleaned data. It will print basic information about the `programs` dataframe."
   ]
  },
  {
   "cell_type": "code",
   "execution_count": 7,
   "id": "5fb5795d",
   "metadata": {},
   "outputs": [
    {
     "name": "stdout",
     "output_type": "stream",
     "text": [
      "<class 'pandas.core.frame.DataFrame'>\n",
      "Index: 30 entries, 11 to 3\n",
      "Data columns (total 10 columns):\n",
      " #   Column         Non-Null Count  Dtype \n",
      "---  ------         --------------  ----- \n",
      " 0   Name           30 non-null     object\n",
      " 1   Type           0 non-null      object\n",
      " 2   Location       30 non-null     object\n",
      " 3   Date           30 non-null     object\n",
      " 4   Time           30 non-null     object\n",
      " 5   Day            30 non-null     object\n",
      " 6   Capacity       30 non-null     object\n",
      " 7   Preregistered  30 non-null     object\n",
      " 8   Attended       30 non-null     object\n",
      " 9   Percentage     30 non-null     object\n",
      "dtypes: object(10)\n",
      "memory usage: 2.6+ KB\n",
      "None\n"
     ]
    },
    {
     "name": "stderr",
     "output_type": "stream",
     "text": [
      "/opt/anaconda3/lib/python3.11/site-packages/openpyxl/styles/stylesheet.py:226: UserWarning: Workbook contains no default style, apply openpyxl's default\n",
      "  warn(\"Workbook contains no default style, apply openpyxl's default\")\n"
     ]
    }
   ],
   "source": [
    "# program_xlsx_file = button1.files[0]\n",
    "program_xlsx_file = \"./foodfight_program_query.xlsx\"\n",
    "raw_program_data = pd.read_excel(program_xlsx_file, engine='openpyxl')\n",
    "programs = clean_up_df(raw_program_data)\n",
    "print(programs.info())"
   ]
  },
  {
   "cell_type": "markdown",
   "id": "156a35e7",
   "metadata": {},
   "source": [
    "In order to do analysis about workshops, conversations, and performances, we need to allocate the 'Type' of program based on keywords in the title. Change these if you need to, and make them specific as needed to get this to work right."
   ]
  },
  {
   "cell_type": "code",
   "execution_count": 8,
   "id": "ef65f648",
   "metadata": {},
   "outputs": [
    {
     "data": {
      "text/html": [
       "<div>\n",
       "<style scoped>\n",
       "    .dataframe tbody tr th:only-of-type {\n",
       "        vertical-align: middle;\n",
       "    }\n",
       "\n",
       "    .dataframe tbody tr th {\n",
       "        vertical-align: top;\n",
       "    }\n",
       "\n",
       "    .dataframe thead th {\n",
       "        text-align: right;\n",
       "    }\n",
       "</style>\n",
       "<table border=\"1\" class=\"dataframe\">\n",
       "  <thead>\n",
       "    <tr style=\"text-align: right;\">\n",
       "      <th></th>\n",
       "      <th>Name</th>\n",
       "      <th>Type</th>\n",
       "      <th>Location</th>\n",
       "      <th>Date</th>\n",
       "      <th>Time</th>\n",
       "      <th>Day</th>\n",
       "      <th>Capacity</th>\n",
       "      <th>Preregistered</th>\n",
       "      <th>Attended</th>\n",
       "      <th>Percentage</th>\n",
       "    </tr>\n",
       "  </thead>\n",
       "  <tbody>\n",
       "    <tr>\n",
       "      <th>11</th>\n",
       "      <td>Food Fight! Opening Reception</td>\n",
       "      <td>Other</td>\n",
       "      <td>MSU Museum</td>\n",
       "      <td>2024-01-11 00:00:00</td>\n",
       "      <td>5:00 PM</td>\n",
       "      <td>Thu</td>\n",
       "      <td>500.0</td>\n",
       "      <td>290.0</td>\n",
       "      <td>173.0</td>\n",
       "      <td>0.596552</td>\n",
       "    </tr>\n",
       "    <tr>\n",
       "      <th>4</th>\n",
       "      <td>CANCELLED-Food Futures Performance</td>\n",
       "      <td>Other</td>\n",
       "      <td>MSU Museum</td>\n",
       "      <td>2024-01-12 00:00:00</td>\n",
       "      <td>12:10 PM</td>\n",
       "      <td>Fri</td>\n",
       "      <td>60.0</td>\n",
       "      <td>15.0</td>\n",
       "      <td>0</td>\n",
       "      <td>NaN</td>\n",
       "    </tr>\n",
       "    <tr>\n",
       "      <th>18</th>\n",
       "      <td>POSTPONED-Composting Workshop</td>\n",
       "      <td>Other</td>\n",
       "      <td>MSU Recycling Center</td>\n",
       "      <td>2024-01-18 00:00:00</td>\n",
       "      <td>5:00 PM</td>\n",
       "      <td>Thu</td>\n",
       "      <td>48.0</td>\n",
       "      <td>48.0</td>\n",
       "      <td>0</td>\n",
       "      <td>NaN</td>\n",
       "    </tr>\n",
       "    <tr>\n",
       "      <th>8</th>\n",
       "      <td>Ethnobotany On the Sphere: Chile Peppers</td>\n",
       "      <td>Workshop</td>\n",
       "      <td>MSU Museum</td>\n",
       "      <td>2024-01-20 00:00:00</td>\n",
       "      <td>1:00 PM</td>\n",
       "      <td>Sat</td>\n",
       "      <td>65.0</td>\n",
       "      <td>59.0</td>\n",
       "      <td>36.0</td>\n",
       "      <td>0.610169</td>\n",
       "    </tr>\n",
       "    <tr>\n",
       "      <th>5</th>\n",
       "      <td>CANCELLED-Michigan's Food Landscape</td>\n",
       "      <td>Other</td>\n",
       "      <td>MSU Museum</td>\n",
       "      <td>2024-01-21 00:00:00</td>\n",
       "      <td>1:00 PM</td>\n",
       "      <td>Sun</td>\n",
       "      <td>2.0</td>\n",
       "      <td>2.0</td>\n",
       "      <td>0</td>\n",
       "      <td>NaN</td>\n",
       "    </tr>\n",
       "    <tr>\n",
       "      <th>14</th>\n",
       "      <td>Intersection: Food Deserts and Public Policy</td>\n",
       "      <td>Conversation</td>\n",
       "      <td>MSU Museum</td>\n",
       "      <td>2024-01-25 00:00:00</td>\n",
       "      <td>7:00 PM</td>\n",
       "      <td>Thu</td>\n",
       "      <td>120.0</td>\n",
       "      <td>65.0</td>\n",
       "      <td>25.0</td>\n",
       "      <td>0.384615</td>\n",
       "    </tr>\n",
       "    <tr>\n",
       "      <th>16</th>\n",
       "      <td>Mushrooms in a Bottle</td>\n",
       "      <td>Other</td>\n",
       "      <td>MSU Museum</td>\n",
       "      <td>2024-01-27 00:00:00</td>\n",
       "      <td>1:00 PM</td>\n",
       "      <td>Sat</td>\n",
       "      <td>90.0</td>\n",
       "      <td>86.0</td>\n",
       "      <td>53.0</td>\n",
       "      <td>0.616279</td>\n",
       "    </tr>\n",
       "    <tr>\n",
       "      <th>6</th>\n",
       "      <td>Discussion and Book Signing with Curtis Chin</td>\n",
       "      <td>Conversation</td>\n",
       "      <td>MSU Main Library</td>\n",
       "      <td>2024-02-01 00:00:00</td>\n",
       "      <td>7:00 PM</td>\n",
       "      <td>Thu</td>\n",
       "      <td>155.0</td>\n",
       "      <td>151.0</td>\n",
       "      <td>109.0</td>\n",
       "      <td>0.721854</td>\n",
       "    </tr>\n",
       "    <tr>\n",
       "      <th>10</th>\n",
       "      <td>Ethnobotany On the Sphere: Tea</td>\n",
       "      <td>Workshop</td>\n",
       "      <td>MSU Museum</td>\n",
       "      <td>2024-02-03 00:00:00</td>\n",
       "      <td>1:00 PM</td>\n",
       "      <td>Sat</td>\n",
       "      <td>61.0</td>\n",
       "      <td>61.0</td>\n",
       "      <td>21.0</td>\n",
       "      <td>0.344262</td>\n",
       "    </tr>\n",
       "    <tr>\n",
       "      <th>22</th>\n",
       "      <td>Vegan Cooking Workshop</td>\n",
       "      <td>Workshop</td>\n",
       "      <td>MSU Union</td>\n",
       "      <td>2024-02-04 00:00:00</td>\n",
       "      <td>1:00 PM</td>\n",
       "      <td>Sun</td>\n",
       "      <td>50.0</td>\n",
       "      <td>48.0</td>\n",
       "      <td>25.0</td>\n",
       "      <td>0.520833</td>\n",
       "    </tr>\n",
       "    <tr>\n",
       "      <th>17</th>\n",
       "      <td>Peshawbestown Dancers and Singers</td>\n",
       "      <td>Performance</td>\n",
       "      <td>RCAH</td>\n",
       "      <td>2024-02-08 00:00:00</td>\n",
       "      <td>7:00 PM</td>\n",
       "      <td>Thu</td>\n",
       "      <td>195.0</td>\n",
       "      <td>193.0</td>\n",
       "      <td>112.0</td>\n",
       "      <td>0.580311</td>\n",
       "    </tr>\n",
       "    <tr>\n",
       "      <th>9</th>\n",
       "      <td>Ethnobotany On the Sphere: Chocolate</td>\n",
       "      <td>Workshop</td>\n",
       "      <td>MSU Museum</td>\n",
       "      <td>2024-02-17 00:00:00</td>\n",
       "      <td>1:00 PM</td>\n",
       "      <td>Sat</td>\n",
       "      <td>61.0</td>\n",
       "      <td>64.0</td>\n",
       "      <td>33.0</td>\n",
       "      <td>0.515625</td>\n",
       "    </tr>\n",
       "    <tr>\n",
       "      <th>1</th>\n",
       "      <td>\"The Body Fights Back\" Film Screening</td>\n",
       "      <td>Performance</td>\n",
       "      <td>MSU Museum</td>\n",
       "      <td>2024-02-22 00:00:00</td>\n",
       "      <td>7:00 PM</td>\n",
       "      <td>Thu</td>\n",
       "      <td>100.0</td>\n",
       "      <td>102.0</td>\n",
       "      <td>42.0</td>\n",
       "      <td>0.411765</td>\n",
       "    </tr>\n",
       "    <tr>\n",
       "      <th>23</th>\n",
       "      <td>Wellness Wednesday Workshop #1: Seed Exchange</td>\n",
       "      <td>Workshop</td>\n",
       "      <td>Beal</td>\n",
       "      <td>2024-03-06 00:00:00</td>\n",
       "      <td>12:00 PM</td>\n",
       "      <td>Wed</td>\n",
       "      <td>100.0</td>\n",
       "      <td>87.0</td>\n",
       "      <td>25.0</td>\n",
       "      <td>0.287356</td>\n",
       "    </tr>\n",
       "    <tr>\n",
       "      <th>2</th>\n",
       "      <td>\"The Trilogy of Tomorrow\" Film Screening</td>\n",
       "      <td>Performance</td>\n",
       "      <td>MSU Museum</td>\n",
       "      <td>2024-03-07 00:00:00</td>\n",
       "      <td>7:00 PM</td>\n",
       "      <td>Thu</td>\n",
       "      <td>100.0</td>\n",
       "      <td>20.0</td>\n",
       "      <td>8.0</td>\n",
       "      <td>0.4</td>\n",
       "    </tr>\n",
       "    <tr>\n",
       "      <th>24</th>\n",
       "      <td>Wellness Wednesday Workshop #2: Sweetgrass Twine</td>\n",
       "      <td>Workshop</td>\n",
       "      <td>Beal</td>\n",
       "      <td>2024-03-13 00:00:00</td>\n",
       "      <td>12:00 PM</td>\n",
       "      <td>Wed</td>\n",
       "      <td>100.0</td>\n",
       "      <td>41.0</td>\n",
       "      <td>17.0</td>\n",
       "      <td>0.414634</td>\n",
       "    </tr>\n",
       "    <tr>\n",
       "      <th>25</th>\n",
       "      <td>Wellness Wednesday Workshop #3: Cold-Hardy Pla...</td>\n",
       "      <td>Workshop</td>\n",
       "      <td>MSU Museum</td>\n",
       "      <td>2024-03-20 00:00:00</td>\n",
       "      <td>12:00 PM</td>\n",
       "      <td>Wed</td>\n",
       "      <td>1000.0</td>\n",
       "      <td>31.0</td>\n",
       "      <td>11.0</td>\n",
       "      <td>0.354839</td>\n",
       "    </tr>\n",
       "    <tr>\n",
       "      <th>26</th>\n",
       "      <td>Wellness Wednesday Workshop #4: Chickweed Salad</td>\n",
       "      <td>Workshop</td>\n",
       "      <td>Beal</td>\n",
       "      <td>2024-03-27 00:00:00</td>\n",
       "      <td>12:00 PM</td>\n",
       "      <td>Wed</td>\n",
       "      <td>100.0</td>\n",
       "      <td>73.0</td>\n",
       "      <td>29.0</td>\n",
       "      <td>0.39726</td>\n",
       "    </tr>\n",
       "    <tr>\n",
       "      <th>20</th>\n",
       "      <td>The Food That Grows on Water: A Conversation o...</td>\n",
       "      <td>Conversation</td>\n",
       "      <td>MSU Museum</td>\n",
       "      <td>2024-03-28 00:00:00</td>\n",
       "      <td>7:00 PM</td>\n",
       "      <td>Thu</td>\n",
       "      <td>130.0</td>\n",
       "      <td>132.0</td>\n",
       "      <td>71.0</td>\n",
       "      <td>0.537879</td>\n",
       "    </tr>\n",
       "    <tr>\n",
       "      <th>27</th>\n",
       "      <td>Wellness Wednesday Workshop #5: Weed Tea</td>\n",
       "      <td>Workshop</td>\n",
       "      <td>MSU Museum</td>\n",
       "      <td>2024-04-03 00:00:00</td>\n",
       "      <td>12:00 PM</td>\n",
       "      <td>Wed</td>\n",
       "      <td>80.0</td>\n",
       "      <td>43.0</td>\n",
       "      <td>12.0</td>\n",
       "      <td>0.27907</td>\n",
       "    </tr>\n",
       "    <tr>\n",
       "      <th>19</th>\n",
       "      <td>Taking the Fast Out of Food</td>\n",
       "      <td>Conversation</td>\n",
       "      <td>MSU Museum</td>\n",
       "      <td>2024-04-04 00:00:00</td>\n",
       "      <td>7:00 PM</td>\n",
       "      <td>Thu</td>\n",
       "      <td>120.0</td>\n",
       "      <td>93.0</td>\n",
       "      <td>52.0</td>\n",
       "      <td>0.55914</td>\n",
       "    </tr>\n",
       "    <tr>\n",
       "      <th>28</th>\n",
       "      <td>Wellness Wednesday Workshop #6: Spring Ephemerals</td>\n",
       "      <td>Workshop</td>\n",
       "      <td>Beal</td>\n",
       "      <td>2024-04-10 00:00:00</td>\n",
       "      <td>12:00 PM</td>\n",
       "      <td>Wed</td>\n",
       "      <td>100.0</td>\n",
       "      <td>40.0</td>\n",
       "      <td>20.0</td>\n",
       "      <td>0.5</td>\n",
       "    </tr>\n",
       "    <tr>\n",
       "      <th>12</th>\n",
       "      <td>Food Fight! Poetry Slam</td>\n",
       "      <td>Performance</td>\n",
       "      <td>MSU Museum</td>\n",
       "      <td>2024-04-11 00:00:00</td>\n",
       "      <td>7:00 PM</td>\n",
       "      <td>Thu</td>\n",
       "      <td>120.0</td>\n",
       "      <td>99.0</td>\n",
       "      <td>55.0</td>\n",
       "      <td>0.555556</td>\n",
       "    </tr>\n",
       "    <tr>\n",
       "      <th>0</th>\n",
       "      <td>\"King Corn\" Film Screening</td>\n",
       "      <td>Performance</td>\n",
       "      <td>MSU Museum</td>\n",
       "      <td>2024-04-18 00:00:00</td>\n",
       "      <td>5:00 PM</td>\n",
       "      <td>Thu</td>\n",
       "      <td>120.0</td>\n",
       "      <td>60.0</td>\n",
       "      <td>20.0</td>\n",
       "      <td>0.333333</td>\n",
       "    </tr>\n",
       "    <tr>\n",
       "      <th>13</th>\n",
       "      <td>Got Milk? A Conversation on Breastfeeding</td>\n",
       "      <td>Conversation</td>\n",
       "      <td>MSU Museum</td>\n",
       "      <td>2024-05-07 00:00:00</td>\n",
       "      <td>12:00 PM</td>\n",
       "      <td>Tue</td>\n",
       "      <td>100.0</td>\n",
       "      <td>26.0</td>\n",
       "      <td>10.0</td>\n",
       "      <td>0.384615</td>\n",
       "    </tr>\n",
       "    <tr>\n",
       "      <th>29</th>\n",
       "      <td>Wellness Wednesday Workshop #7: Eating Invasives</td>\n",
       "      <td>Workshop</td>\n",
       "      <td>Beal</td>\n",
       "      <td>2024-05-15 00:00:00</td>\n",
       "      <td>12:00 PM</td>\n",
       "      <td>Wed</td>\n",
       "      <td>100.0</td>\n",
       "      <td>47.0</td>\n",
       "      <td>26.0</td>\n",
       "      <td>0.553191</td>\n",
       "    </tr>\n",
       "    <tr>\n",
       "      <th>15</th>\n",
       "      <td>Let's Eat: Culinary Sensations Steeped in Cook...</td>\n",
       "      <td>Other</td>\n",
       "      <td>MSU Museum</td>\n",
       "      <td>2024-05-22 00:00:00</td>\n",
       "      <td>12:00 PM</td>\n",
       "      <td>Wed</td>\n",
       "      <td>40.0</td>\n",
       "      <td>15.0</td>\n",
       "      <td>14.0</td>\n",
       "      <td>0.933333</td>\n",
       "    </tr>\n",
       "    <tr>\n",
       "      <th>21</th>\n",
       "      <td>The Science of Flavor</td>\n",
       "      <td>Workshop</td>\n",
       "      <td>MSU Museum</td>\n",
       "      <td>2024-05-29 00:00:00</td>\n",
       "      <td>1:00 PM</td>\n",
       "      <td>Wed</td>\n",
       "      <td>50.0</td>\n",
       "      <td>52.0</td>\n",
       "      <td>32.0</td>\n",
       "      <td>0.615385</td>\n",
       "    </tr>\n",
       "    <tr>\n",
       "      <th>7</th>\n",
       "      <td>East Lansing Farmers Market Walk-and-Talk Tour</td>\n",
       "      <td>Workshop</td>\n",
       "      <td>Valley Ct</td>\n",
       "      <td>2024-06-02 00:00:00</td>\n",
       "      <td>11:30 AM</td>\n",
       "      <td>Sun</td>\n",
       "      <td>40.0</td>\n",
       "      <td>36.0</td>\n",
       "      <td>15.0</td>\n",
       "      <td>0.416667</td>\n",
       "    </tr>\n",
       "    <tr>\n",
       "      <th>3</th>\n",
       "      <td>Art on the Farm</td>\n",
       "      <td>Workshop</td>\n",
       "      <td>SOF</td>\n",
       "      <td>2024-06-16 00:00:00</td>\n",
       "      <td>1:00 PM</td>\n",
       "      <td>Sun</td>\n",
       "      <td>55.0</td>\n",
       "      <td>55.0</td>\n",
       "      <td>11.0</td>\n",
       "      <td>0.2</td>\n",
       "    </tr>\n",
       "  </tbody>\n",
       "</table>\n",
       "</div>"
      ],
      "text/plain": [
       "                                                 Name          Type  \\\n",
       "11                      Food Fight! Opening Reception         Other   \n",
       "4                  CANCELLED-Food Futures Performance         Other   \n",
       "18                      POSTPONED-Composting Workshop         Other   \n",
       "8            Ethnobotany On the Sphere: Chile Peppers      Workshop   \n",
       "5                 CANCELLED-Michigan's Food Landscape         Other   \n",
       "14       Intersection: Food Deserts and Public Policy  Conversation   \n",
       "16                              Mushrooms in a Bottle         Other   \n",
       "6        Discussion and Book Signing with Curtis Chin  Conversation   \n",
       "10                     Ethnobotany On the Sphere: Tea      Workshop   \n",
       "22                             Vegan Cooking Workshop      Workshop   \n",
       "17                  Peshawbestown Dancers and Singers   Performance   \n",
       "9                Ethnobotany On the Sphere: Chocolate      Workshop   \n",
       "1               \"The Body Fights Back\" Film Screening   Performance   \n",
       "23      Wellness Wednesday Workshop #1: Seed Exchange      Workshop   \n",
       "2            \"The Trilogy of Tomorrow\" Film Screening   Performance   \n",
       "24   Wellness Wednesday Workshop #2: Sweetgrass Twine      Workshop   \n",
       "25  Wellness Wednesday Workshop #3: Cold-Hardy Pla...      Workshop   \n",
       "26    Wellness Wednesday Workshop #4: Chickweed Salad      Workshop   \n",
       "20  The Food That Grows on Water: A Conversation o...  Conversation   \n",
       "27           Wellness Wednesday Workshop #5: Weed Tea      Workshop   \n",
       "19                        Taking the Fast Out of Food  Conversation   \n",
       "28  Wellness Wednesday Workshop #6: Spring Ephemerals      Workshop   \n",
       "12                            Food Fight! Poetry Slam   Performance   \n",
       "0                          \"King Corn\" Film Screening   Performance   \n",
       "13          Got Milk? A Conversation on Breastfeeding  Conversation   \n",
       "29   Wellness Wednesday Workshop #7: Eating Invasives      Workshop   \n",
       "15  Let's Eat: Culinary Sensations Steeped in Cook...         Other   \n",
       "21                              The Science of Flavor      Workshop   \n",
       "7      East Lansing Farmers Market Walk-and-Talk Tour      Workshop   \n",
       "3                                     Art on the Farm      Workshop   \n",
       "\n",
       "                Location                 Date      Time  Day Capacity  \\\n",
       "11            MSU Museum  2024-01-11 00:00:00   5:00 PM  Thu    500.0   \n",
       "4             MSU Museum  2024-01-12 00:00:00  12:10 PM  Fri     60.0   \n",
       "18  MSU Recycling Center  2024-01-18 00:00:00   5:00 PM  Thu     48.0   \n",
       "8             MSU Museum  2024-01-20 00:00:00   1:00 PM  Sat     65.0   \n",
       "5             MSU Museum  2024-01-21 00:00:00   1:00 PM  Sun      2.0   \n",
       "14            MSU Museum  2024-01-25 00:00:00   7:00 PM  Thu    120.0   \n",
       "16            MSU Museum  2024-01-27 00:00:00   1:00 PM  Sat     90.0   \n",
       "6       MSU Main Library  2024-02-01 00:00:00   7:00 PM  Thu    155.0   \n",
       "10            MSU Museum  2024-02-03 00:00:00   1:00 PM  Sat     61.0   \n",
       "22             MSU Union  2024-02-04 00:00:00   1:00 PM  Sun     50.0   \n",
       "17                  RCAH  2024-02-08 00:00:00   7:00 PM  Thu    195.0   \n",
       "9             MSU Museum  2024-02-17 00:00:00   1:00 PM  Sat     61.0   \n",
       "1             MSU Museum  2024-02-22 00:00:00   7:00 PM  Thu    100.0   \n",
       "23                  Beal  2024-03-06 00:00:00  12:00 PM  Wed    100.0   \n",
       "2             MSU Museum  2024-03-07 00:00:00   7:00 PM  Thu    100.0   \n",
       "24                  Beal  2024-03-13 00:00:00  12:00 PM  Wed    100.0   \n",
       "25            MSU Museum  2024-03-20 00:00:00  12:00 PM  Wed   1000.0   \n",
       "26                  Beal  2024-03-27 00:00:00  12:00 PM  Wed    100.0   \n",
       "20            MSU Museum  2024-03-28 00:00:00   7:00 PM  Thu    130.0   \n",
       "27            MSU Museum  2024-04-03 00:00:00  12:00 PM  Wed     80.0   \n",
       "19            MSU Museum  2024-04-04 00:00:00   7:00 PM  Thu    120.0   \n",
       "28                  Beal  2024-04-10 00:00:00  12:00 PM  Wed    100.0   \n",
       "12            MSU Museum  2024-04-11 00:00:00   7:00 PM  Thu    120.0   \n",
       "0             MSU Museum  2024-04-18 00:00:00   5:00 PM  Thu    120.0   \n",
       "13            MSU Museum  2024-05-07 00:00:00  12:00 PM  Tue    100.0   \n",
       "29                  Beal  2024-05-15 00:00:00  12:00 PM  Wed    100.0   \n",
       "15            MSU Museum  2024-05-22 00:00:00  12:00 PM  Wed     40.0   \n",
       "21            MSU Museum  2024-05-29 00:00:00   1:00 PM  Wed     50.0   \n",
       "7              Valley Ct  2024-06-02 00:00:00  11:30 AM  Sun     40.0   \n",
       "3                    SOF  2024-06-16 00:00:00   1:00 PM  Sun     55.0   \n",
       "\n",
       "   Preregistered Attended Percentage  \n",
       "11         290.0    173.0   0.596552  \n",
       "4           15.0        0        NaN  \n",
       "18          48.0        0        NaN  \n",
       "8           59.0     36.0   0.610169  \n",
       "5            2.0        0        NaN  \n",
       "14          65.0     25.0   0.384615  \n",
       "16          86.0     53.0   0.616279  \n",
       "6          151.0    109.0   0.721854  \n",
       "10          61.0     21.0   0.344262  \n",
       "22          48.0     25.0   0.520833  \n",
       "17         193.0    112.0   0.580311  \n",
       "9           64.0     33.0   0.515625  \n",
       "1          102.0     42.0   0.411765  \n",
       "23          87.0     25.0   0.287356  \n",
       "2           20.0      8.0        0.4  \n",
       "24          41.0     17.0   0.414634  \n",
       "25          31.0     11.0   0.354839  \n",
       "26          73.0     29.0    0.39726  \n",
       "20         132.0     71.0   0.537879  \n",
       "27          43.0     12.0    0.27907  \n",
       "19          93.0     52.0    0.55914  \n",
       "28          40.0     20.0        0.5  \n",
       "12          99.0     55.0   0.555556  \n",
       "0           60.0     20.0   0.333333  \n",
       "13          26.0     10.0   0.384615  \n",
       "29          47.0     26.0   0.553191  \n",
       "15          15.0     14.0   0.933333  \n",
       "21          52.0     32.0   0.615385  \n",
       "7           36.0     15.0   0.416667  \n",
       "3           55.0     11.0        0.2  "
      ]
     },
     "metadata": {},
     "output_type": "display_data"
    }
   ],
   "source": [
    "## Keywords to search for to allocate workshops, conversations, performances, and other not listed\n",
    "workshops = ['workshop', 'ethnobotany', 'food landscape', 'farmers market', 'flavor', \"art on the farm\"]\n",
    "conversations = ['intersection', 'conversation', 'discussion', 'fast out']\n",
    "performances = ['screening', 'poetry slam', 'dancers', 'performance']\n",
    "\n",
    "for i in range(len(programs)):\n",
    "    for keyword in workshops:\n",
    "        if keyword.casefold() in programs['Name'].iloc[i].casefold():\n",
    "            programs['Type'].iloc[i] = \"Workshop\"\n",
    "    for keyword in conversations:\n",
    "        if keyword.casefold() in programs['Name'].iloc[i].casefold():\n",
    "            programs['Type'].iloc[i] = \"Conversation\"\n",
    "    for keyword in performances:\n",
    "        if keyword.casefold() in programs['Name'].iloc[i].casefold():\n",
    "            programs['Type'].iloc[i] = \"Performance\"\n",
    "    if \"cancelled\".casefold() in programs['Name'].iloc[i].casefold():\n",
    "        programs['Type'].iloc[i] = \"Other\"\n",
    "        programs['Percentage'].iloc[i] = np.nan\n",
    "    elif \"postponed\".casefold() in programs['Name'].iloc[i].casefold():\n",
    "        programs['Type'].iloc[i] = \"Other\"\n",
    "        programs['Percentage'].iloc[i] = np.nan\n",
    "\n",
    "#     w_idx = programs['Name'].str.casefold().str.contains(\"workshop\".casefold())\n",
    "#     programs['Type'][w_idx] = \"Workshop\"\n",
    "\n",
    "type_cats = ['Workshop', 'Conversation', 'Performance', 'Other']\n",
    "programs['Type'] = pd.Categorical(programs['Type'], categories=type_cats, ordered=True)\n",
    "nan_idx = programs['Type'].isnull()\n",
    "programs['Type'][nan_idx] = 'Other'\n",
    "programs['Location'].replace(\"Beal Botanical Garden\", \"Beal\", inplace=True)\n",
    "if programs['Location'].str.contains('STEM').any():\n",
    "    programs['Location'].replace(\"STEM Teaching and Learning Facility\", \"STEM\", inplace=True)\n",
    "if programs['Location'].str.contains('Valley').any():\n",
    "    programs['Location'].replace(\"Valley Court Park\", \"Valley Ct\", inplace=True)\n",
    "if programs['Location'].str.contains('Organic Farm').any():\n",
    "    programs['Location'].replace(\"MSU Student Organic Farm\", \"SOF\", inplace=True)    \n",
    "display(programs)"
   ]
  },
  {
   "cell_type": "markdown",
   "id": "ecf50985",
   "metadata": {},
   "source": [
    "If you have cancelled or postponed programs (or other reasons why the attendance percentage would be Not a Number), filter those out of what's going to be plotted."
   ]
  },
  {
   "cell_type": "code",
   "execution_count": 9,
   "id": "a69f807e",
   "metadata": {},
   "outputs": [],
   "source": [
    "nan_idx = programs['Percentage'].isnull()\n",
    "programs = programs.loc[~nan_idx]"
   ]
  },
  {
   "cell_type": "markdown",
   "id": "3b1242e5",
   "metadata": {},
   "source": [
    "If the program series is ongoing, filter out the ones that haven't happened yet."
   ]
  },
  {
   "cell_type": "code",
   "execution_count": 10,
   "id": "94022641",
   "metadata": {},
   "outputs": [],
   "source": [
    "future_idx = programs['Date'] > pd.Timestamp.today()\n",
    "programs = programs.loc[~future_idx]"
   ]
  },
  {
   "cell_type": "markdown",
   "id": "657cb0df",
   "metadata": {},
   "source": [
    "If you want to filter out a specific program based on a keyword in the name."
   ]
  },
  {
   "cell_type": "code",
   "execution_count": 11,
   "id": "bc13f4ad",
   "metadata": {},
   "outputs": [],
   "source": [
    "cut_idx = [\"Mushroom\".casefold() not in item.casefold() for item in programs['Name']]\n",
    "programs = programs.loc[cut_idx]"
   ]
  },
  {
   "cell_type": "markdown",
   "id": "b64eeb54",
   "metadata": {},
   "source": [
    "If you had drop-in programs and want to count the numbers but not skew the attendance percentages, set the percentage to NaN."
   ]
  },
  {
   "cell_type": "code",
   "execution_count": 12,
   "id": "5e0026dd",
   "metadata": {},
   "outputs": [],
   "source": [
    "dropin_idx = [\"Cookbooks\".casefold() in item.casefold() for item in programs['Name']]\n",
    "programs['Percentage'].loc[dropin_idx] = np.nan"
   ]
  },
  {
   "cell_type": "code",
   "execution_count": 13,
   "id": "f3e0aeff",
   "metadata": {},
   "outputs": [
    {
     "data": {
      "text/plain": [
       "11                        Food Fight! Opening Reception\n",
       "8              Ethnobotany On the Sphere: Chile Peppers\n",
       "14         Intersection: Food Deserts and Public Policy\n",
       "6          Discussion and Book Signing with Curtis Chin\n",
       "10                       Ethnobotany On the Sphere: Tea\n",
       "22                               Vegan Cooking Workshop\n",
       "17                    Peshawbestown Dancers and Singers\n",
       "9                  Ethnobotany On the Sphere: Chocolate\n",
       "1                 \"The Body Fights Back\" Film Screening\n",
       "23        Wellness Wednesday Workshop #1: Seed Exchange\n",
       "2              \"The Trilogy of Tomorrow\" Film Screening\n",
       "24     Wellness Wednesday Workshop #2: Sweetgrass Twine\n",
       "25    Wellness Wednesday Workshop #3: Cold-Hardy Pla...\n",
       "26      Wellness Wednesday Workshop #4: Chickweed Salad\n",
       "20    The Food That Grows on Water: A Conversation o...\n",
       "27             Wellness Wednesday Workshop #5: Weed Tea\n",
       "19                          Taking the Fast Out of Food\n",
       "28    Wellness Wednesday Workshop #6: Spring Ephemerals\n",
       "12                              Food Fight! Poetry Slam\n",
       "0                            \"King Corn\" Film Screening\n",
       "13            Got Milk? A Conversation on Breastfeeding\n",
       "29     Wellness Wednesday Workshop #7: Eating Invasives\n",
       "15    Let's Eat: Culinary Sensations Steeped in Cook...\n",
       "21                                The Science of Flavor\n",
       "7        East Lansing Farmers Market Walk-and-Talk Tour\n",
       "3                                       Art on the Farm\n",
       "Name: Name, dtype: object"
      ]
     },
     "metadata": {},
     "output_type": "display_data"
    }
   ],
   "source": [
    "display(programs['Name'])"
   ]
  },
  {
   "cell_type": "markdown",
   "id": "35bae00c",
   "metadata": {},
   "source": [
    "## Let's get some basic numbers!"
   ]
  },
  {
   "cell_type": "markdown",
   "id": "fb289ead",
   "metadata": {},
   "source": [
    "How many people have attended *Food Fight!* programs so far?"
   ]
  },
  {
   "cell_type": "code",
   "execution_count": 14,
   "id": "868b335a",
   "metadata": {},
   "outputs": [
    {
     "data": {
      "text/plain": [
       "1004.0"
      ]
     },
     "execution_count": 14,
     "metadata": {},
     "output_type": "execute_result"
    }
   ],
   "source": [
    "programs['Attended'].sum()"
   ]
  },
  {
   "cell_type": "markdown",
   "id": "00fb9f7c",
   "metadata": {},
   "source": [
    "How many people have pre-registered for a *Food Fight!* program so far?"
   ]
  },
  {
   "cell_type": "code",
   "execution_count": 15,
   "id": "f484acb4",
   "metadata": {},
   "outputs": [
    {
     "data": {
      "text/plain": [
       "1983.0"
      ]
     },
     "execution_count": 15,
     "metadata": {},
     "output_type": "execute_result"
    }
   ],
   "source": [
    "programs['Preregistered'].sum()"
   ]
  },
  {
   "cell_type": "markdown",
   "id": "99f707aa",
   "metadata": {},
   "source": [
    "Plot the attendance of programs as a function of time!"
   ]
  },
  {
   "cell_type": "code",
   "execution_count": 16,
   "id": "c07111e8",
   "metadata": {},
   "outputs": [
    {
     "data": {
      "image/png": "[encoded data removed]",
      "text/plain": [
       "<Figure size 900x400 with 1 Axes>"
      ]
     },
     "metadata": {},
     "output_type": "display_data"
    }
   ],
   "source": [
    "fig, ax = plt.subplots(figsize=(9,4))\n",
    "sns.set_palette(\"Set2\")\n",
    "fig = sns.scatterplot(data=programs, x='Date', y='Percentage', hue='Type')\n",
    "x_dates = pd.date_range(start='1/2024', end='6/2024', freq='MS', inclusive='both')\n",
    "ax.set_xticks(x_dates, labels=x_dates.strftime('%b %Y'), horizontalalignment='left')\n",
    "## TODO: mouseover to read name?!?\n",
    "ax.set(ylim=(0, 0.75), ylabel=\"Attendance fraction\")\n",
    "fig.figure.savefig(\"program_attendance_timeline_scatter.png\",bbox_inches='tight')\n",
    "plt.show()"
   ]
  },
  {
   "cell_type": "markdown",
   "id": "b8752487",
   "metadata": {},
   "source": [
    "## Program type"
   ]
  },
  {
   "cell_type": "code",
   "execution_count": 17,
   "id": "67e6698c",
   "metadata": {},
   "outputs": [
    {
     "name": "stdout",
     "output_type": "stream",
     "text": [
      "\tMEAN ATTENDANCE PERCENTAGE:\n"
     ]
    },
    {
     "data": {
      "text/plain": [
       "Type\n",
       "Workshop        0.429235\n",
       "Conversation    0.517621\n",
       "Performance     0.456193\n",
       "Other           0.596552\n",
       "Name: Percentage, dtype: object"
      ]
     },
     "metadata": {},
     "output_type": "display_data"
    },
    {
     "name": "stdout",
     "output_type": "stream",
     "text": [
      "\tERROR ON MEAN ATTENDANCE PERCENTAGE:\n"
     ]
    },
    {
     "data": {
      "text/plain": [
       "Type\n",
       "Workshop        0.128000\n",
       "Conversation    0.140736\n",
       "Performance     0.106659\n",
       "Other                NaN\n",
       "Name: Percentage, dtype: float64"
      ]
     },
     "metadata": {},
     "output_type": "display_data"
    }
   ],
   "source": [
    "print(\"\\tMEAN ATTENDANCE PERCENTAGE:\")\n",
    "display(programs.groupby('Type', observed=False)['Percentage'].mean())\n",
    "print(\"\\tERROR ON MEAN ATTENDANCE PERCENTAGE:\")\n",
    "display(programs.groupby('Type', observed=False)['Percentage'].std())"
   ]
  },
  {
   "cell_type": "code",
   "execution_count": 18,
   "id": "e78d800f",
   "metadata": {
    "scrolled": false
   },
   "outputs": [
    {
     "name": "stderr",
     "output_type": "stream",
     "text": [
      "/opt/anaconda3/lib/python3.11/site-packages/seaborn/categorical.py:641: FutureWarning: The default of observed=False is deprecated and will be changed to True in a future version of pandas. Pass observed=False to retain current behavior or observed=True to adopt the future default and silence this warning.\n",
      "  grouped_vals = vals.groupby(grouper)\n",
      "/opt/anaconda3/lib/python3.11/site-packages/seaborn/algorithms.py:98: RuntimeWarning: Mean of empty slice\n",
      "  boot_dist.append(f(*sample, **func_kwargs))\n"
     ]
    },
    {
     "data": {
      "image/png": "[encoded data removed]",
      "text/plain": [
       "<Figure size 800x500 with 1 Axes>"
      ]
     },
     "metadata": {},
     "output_type": "display_data"
    }
   ],
   "source": [
    "fig, ax = plt.subplots(figsize=(8,5))\n",
    "sns.set_palette(\"Set2\")\n",
    "fig = sns.barplot(data=programs.sort_values('Type'), x='Type', y='Percentage', saturation=1, alpha=0.75)\n",
    "ax.set(xlabel=\"Program type\", ylabel=\"Attendance fraction\", ylim=(0, 0.75))\n",
    "fig.figure.savefig(\"program_type_bar.png\", bbox_inches='tight')\n",
    "plt.show()"
   ]
  },
  {
   "cell_type": "markdown",
   "id": "f84c3958",
   "metadata": {},
   "source": [
    "## Program location"
   ]
  },
  {
   "cell_type": "markdown",
   "id": "d747df39",
   "metadata": {},
   "source": [
    "Rank the locations by number of programs held there."
   ]
  },
  {
   "cell_type": "code",
   "execution_count": 19,
   "id": "7c8c2f1a",
   "metadata": {},
   "outputs": [],
   "source": [
    "loc_cats = programs['Location'].value_counts(ascending=False, dropna=True).index\n",
    "programs['Location'] = pd.Categorical(programs['Location'], categories=loc_cats, ordered=True)"
   ]
  },
  {
   "cell_type": "markdown",
   "id": "f8e8e485",
   "metadata": {},
   "source": [
    "How was attendance of programs based on their location?"
   ]
  },
  {
   "cell_type": "code",
   "execution_count": 20,
   "id": "8f40186d",
   "metadata": {},
   "outputs": [
    {
     "name": "stdout",
     "output_type": "stream",
     "text": [
      "\tMEAN ATTENDANCE PERCENTAGE:\n"
     ]
    },
    {
     "data": {
      "text/plain": [
       "Location\n",
       "MSU Museum          0.458854\n",
       "Beal                0.430488\n",
       "MSU Main Library    0.721854\n",
       "MSU Union           0.520833\n",
       "RCAH                0.580311\n",
       "Valley Ct           0.416667\n",
       "SOF                      0.2\n",
       "Name: Percentage, dtype: object"
      ]
     },
     "metadata": {},
     "output_type": "display_data"
    },
    {
     "name": "stdout",
     "output_type": "stream",
     "text": [
      "\tERROR ON MEAN ATTENDANCE PERCENTAGE:\n"
     ]
    },
    {
     "data": {
      "text/plain": [
       "Location\n",
       "MSU Museum          0.114632\n",
       "Beal                0.102140\n",
       "MSU Main Library         NaN\n",
       "MSU Union                NaN\n",
       "RCAH                     NaN\n",
       "Valley Ct                NaN\n",
       "SOF                      NaN\n",
       "Name: Percentage, dtype: float64"
      ]
     },
     "metadata": {},
     "output_type": "display_data"
    }
   ],
   "source": [
    "print(\"\\tMEAN ATTENDANCE PERCENTAGE:\")\n",
    "display(programs.groupby('Location', observed=False)['Percentage'].mean())\n",
    "print(\"\\tERROR ON MEAN ATTENDANCE PERCENTAGE:\")\n",
    "display(programs.groupby('Location', observed=False)['Percentage'].std())"
   ]
  },
  {
   "cell_type": "markdown",
   "id": "fb0bfda0",
   "metadata": {},
   "source": [
    "Note: `NaN`, or `Not a Number`, is listed for the standard deviation on the last few because we only had one program at each of those locations."
   ]
  },
  {
   "cell_type": "code",
   "execution_count": 21,
   "id": "6b23696e",
   "metadata": {
    "scrolled": false
   },
   "outputs": [
    {
     "name": "stderr",
     "output_type": "stream",
     "text": [
      "/opt/anaconda3/lib/python3.11/site-packages/seaborn/categorical.py:641: FutureWarning: The default of observed=False is deprecated and will be changed to True in a future version of pandas. Pass observed=False to retain current behavior or observed=True to adopt the future default and silence this warning.\n",
      "  grouped_vals = vals.groupby(grouper)\n"
     ]
    },
    {
     "data": {
      "image/png": "[encoded data removed]",
      "text/plain": [
       "<Figure size 800x500 with 1 Axes>"
      ]
     },
     "metadata": {},
     "output_type": "display_data"
    }
   ],
   "source": [
    "fig, ax = plt.subplots(figsize=(8,5))\n",
    "sns.set_palette('deep')\n",
    "fig = sns.barplot(data=programs, x='Location', y='Percentage', saturation=1, alpha=0.75)\n",
    "ax.set(xlabel=\"Program location\", ylabel=\"Attendance fraction\", ylim=(0, 0.75))\n",
    "fig.figure.savefig(\"program_location_bar.png\", bbox_inches='tight')\n",
    "plt.show()"
   ]
  },
  {
   "cell_type": "markdown",
   "id": "deafd3dc",
   "metadata": {},
   "source": [
    "It's worth noting that the Library and RCAH programs had very strong partnerships and co-sponsorships, which significantly boosted attendance, and it was raining for the outdoor program at Valley Court Park, which didn't help attendance."
   ]
  },
  {
   "cell_type": "markdown",
   "id": "09ee754a",
   "metadata": {},
   "source": [
    "## Time of day"
   ]
  },
  {
   "cell_type": "code",
   "execution_count": 22,
   "id": "c8c1fa60",
   "metadata": {},
   "outputs": [
    {
     "name": "stdout",
     "output_type": "stream",
     "text": [
      "\tMEAN ATTENDANCE PERCENTAGE:\n"
     ]
    },
    {
     "data": {
      "text/plain": [
       "Time\n",
       "11:30 AM    0.416667\n",
       "12:00 PM    0.396371\n",
       "1:00 PM     0.467712\n",
       "5:00 PM     0.464943\n",
       "7:00 PM      0.51889\n",
       "Name: Percentage, dtype: object"
      ]
     },
     "metadata": {},
     "output_type": "display_data"
    },
    {
     "name": "stdout",
     "output_type": "stream",
     "text": [
      "\tERROR ON MEAN ATTENDANCE PERCENTAGE:\n"
     ]
    },
    {
     "data": {
      "text/plain": [
       "Time\n",
       "11:30 AM         NaN\n",
       "12:00 PM    0.094998\n",
       "1:00 PM     0.163785\n",
       "5:00 PM     0.186124\n",
       "7:00 PM     0.114600\n",
       "Name: Percentage, dtype: float64"
      ]
     },
     "metadata": {},
     "output_type": "display_data"
    }
   ],
   "source": [
    "print(\"\\tMEAN ATTENDANCE PERCENTAGE:\")\n",
    "display(programs.groupby('Time')['Percentage'].mean())\n",
    "print(\"\\tERROR ON MEAN ATTENDANCE PERCENTAGE:\")\n",
    "display(programs.groupby('Time')['Percentage'].std())"
   ]
  },
  {
   "cell_type": "code",
   "execution_count": 23,
   "id": "30a74392",
   "metadata": {
    "scrolled": false
   },
   "outputs": [
    {
     "data": {
      "image/png": "[encoded data removed]",
      "text/plain": [
       "<Figure size 800x500 with 1 Axes>"
      ]
     },
     "metadata": {},
     "output_type": "display_data"
    }
   ],
   "source": [
    "sns.set_palette(\"pastel\")\n",
    "fig, ax = plt.subplots(figsize=(8,5))\n",
    "fig = sns.barplot(data=programs.sort_values('Time'), x='Time', y='Percentage', saturation=1, alpha=0.75)\n",
    "ax.set(xlabel=\"Program start time\", ylabel=\"Attendance fraction\", ylim=(0, 0.75))\n",
    "fig.figure.savefig(\"program_time_bar.png\", bbox_inches='tight')\n",
    "plt.show()"
   ]
  },
  {
   "cell_type": "markdown",
   "id": "986b01bb",
   "metadata": {},
   "source": [
    "The 12pm programs were on weekdays, so day of the week is also a factor."
   ]
  },
  {
   "cell_type": "markdown",
   "id": "8ffd010d",
   "metadata": {},
   "source": [
    "## Day of week"
   ]
  },
  {
   "cell_type": "markdown",
   "id": "22dd1ff2",
   "metadata": {},
   "source": [
    "Sort days of the week in calendar order, not alphabetical order."
   ]
  },
  {
   "cell_type": "code",
   "execution_count": 24,
   "id": "863a4107",
   "metadata": {},
   "outputs": [],
   "source": [
    "day_cats = ['Mon', 'Tue', 'Wed', 'Thu', 'Fri', 'Sat', 'Sun']\n",
    "programs['Day'] = pd.Categorical(programs['Day'], categories=day_cats, ordered=True)"
   ]
  },
  {
   "cell_type": "code",
   "execution_count": 25,
   "id": "1ac49135",
   "metadata": {},
   "outputs": [
    {
     "name": "stdout",
     "output_type": "stream",
     "text": [
      "\tMEAN ATTENDANCE PERCENTAGE:\n"
     ]
    },
    {
     "data": {
      "text/plain": [
       "Day\n",
       "Tue    0.384615\n",
       "Wed    0.425217\n",
       "Thu      0.5081\n",
       "Sat    0.490019\n",
       "Sun    0.379167\n",
       "Name: Percentage, dtype: object"
      ]
     },
     "metadata": {},
     "output_type": "display_data"
    },
    {
     "name": "stdout",
     "output_type": "stream",
     "text": [
      "\tERROR ON MEAN ATTENDANCE PERCENTAGE:\n"
     ]
    },
    {
     "data": {
      "text/plain": [
       "Day\n",
       "Tue         NaN\n",
       "Wed    0.122092\n",
       "Thu    0.120753\n",
       "Sat    0.134790\n",
       "Sun    0.163671\n",
       "Name: Percentage, dtype: float64"
      ]
     },
     "metadata": {},
     "output_type": "display_data"
    }
   ],
   "source": [
    "print(\"\\tMEAN ATTENDANCE PERCENTAGE:\")\n",
    "display(programs.sort_values('Day').groupby('Day', observed=True)['Percentage'].mean())\n",
    "print(\"\\tERROR ON MEAN ATTENDANCE PERCENTAGE:\")\n",
    "display(programs.groupby('Day', observed=True)['Percentage'].std())"
   ]
  },
  {
   "cell_type": "code",
   "execution_count": 26,
   "id": "1942261a",
   "metadata": {
    "scrolled": false
   },
   "outputs": [
    {
     "name": "stderr",
     "output_type": "stream",
     "text": [
      "/opt/anaconda3/lib/python3.11/site-packages/seaborn/categorical.py:641: FutureWarning: The default of observed=False is deprecated and will be changed to True in a future version of pandas. Pass observed=False to retain current behavior or observed=True to adopt the future default and silence this warning.\n",
      "  grouped_vals = vals.groupby(grouper)\n"
     ]
    },
    {
     "data": {
      "image/png": "[encoded data removed]",
      "text/plain": [
       "<Figure size 800x500 with 1 Axes>"
      ]
     },
     "metadata": {},
     "output_type": "display_data"
    }
   ],
   "source": [
    "sns.set_palette(\"pastel\")\n",
    "fig, ax = plt.subplots(figsize=(8,5))\n",
    "fig = sns.barplot(data=programs.sort_values('Day'), x='Day', y='Percentage', saturation=1, alpha=0.75)\n",
    "ax.set(xlabel=\"Program day\", ylabel=\"Attendance fraction\", ylim=(0, 0.75))\n",
    "fig.figure.savefig(\"program_day_bar.png\", bbox_inches='tight')\n",
    "plt.show()"
   ]
  },
  {
   "cell_type": "markdown",
   "id": "118ed534",
   "metadata": {},
   "source": [
    "Keep in mind that the Tuesday and Wednesday programs were lunchtime programs, and Thursday programs were in the evening, so time of day is at play here as well."
   ]
  },
  {
   "cell_type": "markdown",
   "id": "b06aa90a",
   "metadata": {},
   "source": [
    "# Program attendees"
   ]
  },
  {
   "cell_type": "markdown",
   "id": "01c1c4e6",
   "metadata": {},
   "source": [
    "Now we can get nitty-gritty. Let's load in the data file with all the registrants for each program.\n",
    "\n",
    "**VERY IMPORTANT NOTE:** You need to open the excel file and double-check that the non-MSU affiliation says \"Not MSU\" instaed of \"None\". Otherwise, having no MSU affiliation gets merged with the people for whom we don't have that information. If needed, do find-replace to switch \"None\" to \"Not MSU\"."
   ]
  },
  {
   "cell_type": "code",
   "execution_count": 27,
   "id": "7c18e076",
   "metadata": {},
   "outputs": [],
   "source": [
    "# button2 = SelectFilesButton()\n",
    "# button2  # This will display the button in the context of Jupyter Notebook"
   ]
  },
  {
   "cell_type": "code",
   "execution_count": 28,
   "id": "43e6fb9f",
   "metadata": {},
   "outputs": [],
   "source": [
    "# reg_xlsx_file = button2.files[0]\n",
    "reg_xlsx_file = \"./foodfight_registrant_query.xlsx\""
   ]
  },
  {
   "cell_type": "code",
   "execution_count": 29,
   "id": "7ae8aa7d",
   "metadata": {},
   "outputs": [
    {
     "name": "stdout",
     "output_type": "stream",
     "text": [
      "<class 'pandas.core.frame.DataFrame'>\n",
      "RangeIndex: 2134 entries, 0 to 2133\n",
      "Data columns (total 9 columns):\n",
      " #   Column            Non-Null Count  Dtype \n",
      "---  ------            --------------  ----- \n",
      " 0   Visitor name      2134 non-null   object\n",
      " 1   Attended          2134 non-null   bool  \n",
      " 2   Host name         1270 non-null   object\n",
      " 3   MSU affiliation   1596 non-null   object\n",
      " 4   Program name      2134 non-null   object\n",
      " 5   Program location  2134 non-null   object\n",
      " 6   Number of guests  2134 non-null   int64 \n",
      " 7   ZIP code          1735 non-null   object\n",
      " 8   QUERYRECID        2134 non-null   object\n",
      "dtypes: bool(1), int64(1), object(7)\n",
      "memory usage: 135.6+ KB\n"
     ]
    },
    {
     "name": "stderr",
     "output_type": "stream",
     "text": [
      "/opt/anaconda3/lib/python3.11/site-packages/openpyxl/styles/stylesheet.py:226: UserWarning: Workbook contains no default style, apply openpyxl's default\n",
      "  warn(\"Workbook contains no default style, apply openpyxl's default\")\n"
     ]
    },
    {
     "data": {
      "text/plain": [
       "None"
      ]
     },
     "metadata": {},
     "output_type": "display_data"
    }
   ],
   "source": [
    "registrants = pd.read_excel(reg_xlsx_file, engine='openpyxl', converters={'Attended': convert_yesno_to_bool})\n",
    "display(registrants.info())\n",
    "registrants['Program location'].replace(\"Beal Botanical Garden\", \"Beal\", inplace=True)\n",
    "registrants['Program location'].replace(\"Valley Court Park\", \"Valley Ct\", inplace=True)\n",
    "registrants['Program location'].replace(\"MSU Student Organic Farm\", \"SOF\", inplace=True)\n",
    "registrants['MSU affiliation'].replace(\"Faculty or Staff\", \"Faculty/Staff\", inplace=True)  # Renaming this for consistency with Parent/Family\n",
    "registrants['MSU affiliation'].fillna(\"N/A\", inplace=True)"
   ]
  },
  {
   "cell_type": "markdown",
   "id": "5fb6c5a7",
   "metadata": {},
   "source": [
    "We can assign a preferred order to display the MSU affiliations."
   ]
  },
  {
   "cell_type": "code",
   "execution_count": 30,
   "id": "9422b76a",
   "metadata": {},
   "outputs": [],
   "source": [
    "affil_cats = ['Student', 'Faculty/Staff', 'Alum', 'Parent/Family', 'Not MSU', 'N/A']\n",
    "registrants['MSU affiliation'] = pd.Categorical(registrants['MSU affiliation'], categories=affil_cats, ordered=True)"
   ]
  },
  {
   "cell_type": "markdown",
   "id": "a98f4160",
   "metadata": {},
   "source": [
    "Only keep the records of who attended a program that we kept in the `programs` dataframe, done by program name, since we did some filtering previously."
   ]
  },
  {
   "cell_type": "code",
   "execution_count": 31,
   "id": "7e6822de",
   "metadata": {},
   "outputs": [
    {
     "name": "stdout",
     "output_type": "stream",
     "text": [
      "['MSU Museum' 'Beal' 'MSU Main Library' 'RCAH' 'SOF' 'MSU Union'\n",
      " 'Valley Ct']\n"
     ]
    }
   ],
   "source": [
    "registrants = registrants[registrants['Program name'].isin(programs['Name'].unique().tolist())]\n",
    "print(registrants['Program location'].unique())"
   ]
  },
  {
   "cell_type": "markdown",
   "id": "28a65f2b",
   "metadata": {},
   "source": [
    "Check if we get the same numbers as before."
   ]
  },
  {
   "cell_type": "code",
   "execution_count": 32,
   "id": "d79caab5",
   "metadata": {},
   "outputs": [
    {
     "name": "stdout",
     "output_type": "stream",
     "text": [
      "1983\n",
      "1004\n"
     ]
    }
   ],
   "source": [
    "print(len(registrants))\n",
    "print(sum(registrants['Attended']))"
   ]
  },
  {
   "cell_type": "markdown",
   "id": "f8caf80e",
   "metadata": {},
   "source": [
    "Remove myself, since I sign up for every program to test the links and emails."
   ]
  },
  {
   "cell_type": "code",
   "execution_count": 33,
   "id": "6d145260",
   "metadata": {},
   "outputs": [],
   "source": [
    "me_idx = [\"Abbie Stevens\".casefold() in item.casefold() for item in registrants['Visitor name']]\n",
    "registrants['MSU affiliation'].loc[me_idx] = np.nan"
   ]
  },
  {
   "cell_type": "markdown",
   "id": "3f78a6b3",
   "metadata": {},
   "source": [
    "Remove CoLab Studio, since that's our generic host for walk-ins. (I tried just removing its affiliation, but that threw errors down below with the `hosts` dataframe)."
   ]
  },
  {
   "cell_type": "code",
   "execution_count": 34,
   "id": "c447c332",
   "metadata": {},
   "outputs": [],
   "source": [
    "colab_idx = [\"CoLab Studio\".casefold() in item.casefold() for item in registrants['Visitor name']]\n",
    "registrants['MSU affiliation'].loc[colab_idx] = np.nan"
   ]
  },
  {
   "cell_type": "markdown",
   "id": "acab54d7",
   "metadata": {},
   "source": [
    "2-dimensional histograms are kinda weird but fun. We can look at total pre-registration as a function of MSU affiliation **and** program location!"
   ]
  },
  {
   "cell_type": "code",
   "execution_count": 35,
   "id": "2150a19a",
   "metadata": {},
   "outputs": [
    {
     "name": "stderr",
     "output_type": "stream",
     "text": [
      "/opt/anaconda3/lib/python3.11/site-packages/seaborn/_oldcore.py:1119: FutureWarning: use_inf_as_na option is deprecated and will be removed in a future version. Convert inf values to NaN before operating instead.\n",
      "  with pd.option_context('mode.use_inf_as_na', True):\n",
      "/opt/anaconda3/lib/python3.11/site-packages/seaborn/_oldcore.py:1119: FutureWarning: use_inf_as_na option is deprecated and will be removed in a future version. Convert inf values to NaN before operating instead.\n",
      "  with pd.option_context('mode.use_inf_as_na', True):\n",
      "/var/folders/2b/bxdw1yzn5_vb2kd7bdhn0z3c0000gr/T/ipykernel_90521/1026409643.py:2: UserWarning: set_ticklabels() should only be used with a fixed number of ticks, i.e. after set_ticks() or using a FixedLocator.\n",
      "  fig.set_xticklabels(fig.get_xticklabels(), rotation=345)\n"
     ]
    },
    {
     "data": {
      "image/png": "[encoded data removed]",
      "text/plain": [
       "<Figure size 640x480 with 1 Axes>"
      ]
     },
     "metadata": {},
     "output_type": "display_data"
    }
   ],
   "source": [
    "fig = sns.histplot(registrants, x='Program location', y='MSU affiliation', cmap='crest')\n",
    "fig.set_xticklabels(fig.get_xticklabels(), rotation=345)\n",
    "plt.show()"
   ]
  },
  {
   "cell_type": "markdown",
   "id": "572dae5a",
   "metadata": {},
   "source": [
    "We can see that programs at Beal had a relatively higher number of `Not MSU` affiliations than programs at other locations. The program at RCAH was early in the semester, so lots of pre-registration happened before we realized we weren't collecting MSU affiliation data, hence the high number of `N/A` registrants."
   ]
  },
  {
   "cell_type": "code",
   "execution_count": 36,
   "id": "54ec1857",
   "metadata": {},
   "outputs": [],
   "source": [
    "registrants['Program type'] = pd.Categorical(np.empty(len(registrants)), categories=type_cats, ordered=True)\n",
    "for i in range(len(registrants)):\n",
    "    for keyword in workshops:\n",
    "        if keyword.casefold() in registrants['Program name'].iloc[i].casefold():\n",
    "            registrants['Program type'].iloc[i] = \"Workshop\"\n",
    "    for keyword in conversations:\n",
    "        if keyword.casefold() in registrants['Program name'].iloc[i].casefold():\n",
    "            registrants['Program type'].iloc[i] = \"Conversation\"\n",
    "    for keyword in performances:\n",
    "        if keyword.casefold() in registrants['Program name'].iloc[i].casefold():\n",
    "            registrants['Program type'].iloc[i] = \"Performance\""
   ]
  },
  {
   "cell_type": "code",
   "execution_count": 37,
   "id": "c0a358de",
   "metadata": {},
   "outputs": [
    {
     "name": "stderr",
     "output_type": "stream",
     "text": [
      "/opt/anaconda3/lib/python3.11/site-packages/seaborn/_oldcore.py:1119: FutureWarning: use_inf_as_na option is deprecated and will be removed in a future version. Convert inf values to NaN before operating instead.\n",
      "  with pd.option_context('mode.use_inf_as_na', True):\n",
      "/opt/anaconda3/lib/python3.11/site-packages/seaborn/_oldcore.py:1119: FutureWarning: use_inf_as_na option is deprecated and will be removed in a future version. Convert inf values to NaN before operating instead.\n",
      "  with pd.option_context('mode.use_inf_as_na', True):\n",
      "/var/folders/2b/bxdw1yzn5_vb2kd7bdhn0z3c0000gr/T/ipykernel_90521/1785191084.py:4: UserWarning: set_ticklabels() should only be used with a fixed number of ticks, i.e. after set_ticks() or using a FixedLocator.\n",
      "  fig.set_yticklabels(fig.get_yticklabels(), rotation=45)\n"
     ]
    },
    {
     "data": {
      "image/png": "[encoded data removed]",
      "text/plain": [
       "<Figure size 800x500 with 1 Axes>"
      ]
     },
     "metadata": {},
     "output_type": "display_data"
    }
   ],
   "source": [
    "fig, ax = plt.subplots(figsize=(8,5))\n",
    "fig = sns.histplot(registrants, x='MSU affiliation', y='Program type', cmap='light:orange')\n",
    "ax.set(xlabel=\"Registrant MSU affiliation\", ylabel=\"\")\n",
    "fig.set_yticklabels(fig.get_yticklabels(), rotation=45)\n",
    "fig.figure.savefig(\"2D_reg_affil_type.png\", bbox_inches='tight')\n",
    "plt.show()"
   ]
  },
  {
   "cell_type": "code",
   "execution_count": 38,
   "id": "29d89542",
   "metadata": {},
   "outputs": [
    {
     "name": "stderr",
     "output_type": "stream",
     "text": [
      "/opt/anaconda3/lib/python3.11/site-packages/seaborn/_oldcore.py:1119: FutureWarning: use_inf_as_na option is deprecated and will be removed in a future version. Convert inf values to NaN before operating instead.\n",
      "  with pd.option_context('mode.use_inf_as_na', True):\n",
      "/opt/anaconda3/lib/python3.11/site-packages/seaborn/_oldcore.py:1119: FutureWarning: use_inf_as_na option is deprecated and will be removed in a future version. Convert inf values to NaN before operating instead.\n",
      "  with pd.option_context('mode.use_inf_as_na', True):\n",
      "/var/folders/2b/bxdw1yzn5_vb2kd7bdhn0z3c0000gr/T/ipykernel_90521/1672719515.py:4: UserWarning: set_ticklabels() should only be used with a fixed number of ticks, i.e. after set_ticks() or using a FixedLocator.\n",
      "  fig.set_yticklabels(fig.get_yticklabels(), rotation=45)\n"
     ]
    },
    {
     "data": {
      "image/png": "[encoded data removed]",
      "text/plain": [
       "<Figure size 800x500 with 1 Axes>"
      ]
     },
     "metadata": {},
     "output_type": "display_data"
    }
   ],
   "source": [
    "fig, ax = plt.subplots(figsize=(8,5))\n",
    "fig = sns.histplot(registrants.iloc[np.where(registrants['Attended'])], x='MSU affiliation', y='Program type', cmap='light:g')\n",
    "ax.set(xlabel=\"Attendee MSU affiliation\", ylabel=\"\")\n",
    "fig.set_yticklabels(fig.get_yticklabels(), rotation=45)\n",
    "fig.figure.savefig(\"2D_attend_affil_type.png\", bbox_inches='tight')\n",
    "plt.show()"
   ]
  },
  {
   "cell_type": "markdown",
   "id": "5c2aa11e",
   "metadata": {},
   "source": [
    "## MSU affiliation"
   ]
  },
  {
   "cell_type": "markdown",
   "id": "1a52590e",
   "metadata": {},
   "source": [
    "Let's clean the registrant data and make a new dataframe where each individal is listed once, and we sum the number of pre-registrations and attendances they had."
   ]
  },
  {
   "cell_type": "code",
   "execution_count": 39,
   "id": "12f0f69f",
   "metadata": {},
   "outputs": [],
   "source": [
    "reg_by_name = pd.DataFrame(columns=('Visitor name', 'Attended', 'Preregistered', 'Percentage', 'Host name', 'MSU affiliation'))\n",
    "reg_by_name['Visitor name'] = registrants['Visitor name'].unique()\n",
    "nas_with_other = 0\n",
    "for i in range(len(reg_by_name['Visitor name'])):\n",
    "    appearances = registrants['Visitor name'].values == reg_by_name['Visitor name'][i]\n",
    "    reg_by_name['Preregistered'][i] = sum(appearances) # sum of times it appears in the whole registrants list.\n",
    "    reg_by_name['Attended'][i] = sum(registrants['Attended'][appearances])#sum of attended where name == visitors name\n",
    "    reg_by_name['Host name'][i] = registrants['Host name'][appearances].tolist()\n",
    "    affil = registrants['MSU affiliation'][appearances].unique()\n",
    "    if len(affil) > 1 and \"N/A\" in affil:\n",
    "        reg_by_name['MSU affiliation'][i] = np.delete(affil, np.where(affil == 'N/A'))[0]\n",
    "        nas_with_other += 1\n",
    "    else:\n",
    "        reg_by_name['MSU affiliation'][i] = affil[0]\n",
    "reg_by_name['Percentage'] = reg_by_name['Attended'] / reg_by_name['Preregistered']\n",
    "reg_by_name['MSU affiliation'] = pd.Categorical(reg_by_name['MSU affiliation'], categories=affil_cats, ordered=True)"
   ]
  },
  {
   "cell_type": "code",
   "execution_count": 40,
   "id": "dd8beec3",
   "metadata": {},
   "outputs": [
    {
     "name": "stdout",
     "output_type": "stream",
     "text": [
      "Unique registrants: 1520\n",
      "Unique attendees: 821\n"
     ]
    }
   ],
   "source": [
    "print(\"Unique registrants: %d\" % len(reg_by_name))\n",
    "print(\"Unique attendees: %d\" % len(np.where(reg_by_name['Attended'] > 0)[0]))"
   ]
  },
  {
   "cell_type": "code",
   "execution_count": 41,
   "id": "1e44162c",
   "metadata": {},
   "outputs": [
    {
     "name": "stdout",
     "output_type": "stream",
     "text": [
      "\tSUM OF PRE-REGISTRATIONS:\n"
     ]
    },
    {
     "data": {
      "text/plain": [
       "MSU affiliation\n",
       "Student          368\n",
       "Faculty/Staff    388\n",
       "Alum             254\n",
       "Parent/Family    135\n",
       "Not MSU          338\n",
       "N/A              450\n",
       "Name: Preregistered, dtype: object"
      ]
     },
     "metadata": {},
     "output_type": "display_data"
    },
    {
     "name": "stdout",
     "output_type": "stream",
     "text": [
      "\tSUM OF ATTENDANCES:\n"
     ]
    },
    {
     "data": {
      "text/plain": [
       "MSU affiliation\n",
       "Student          230\n",
       "Faculty/Staff    213\n",
       "Alum             137\n",
       "Parent/Family     54\n",
       "Not MSU          132\n",
       "N/A              206\n",
       "Name: Attended, dtype: object"
      ]
     },
     "metadata": {},
     "output_type": "display_data"
    },
    {
     "name": "stdout",
     "output_type": "stream",
     "text": [
      "\tMEAN ATTENDANCE PERCENTAGE:\n"
     ]
    },
    {
     "data": {
      "text/plain": [
       "MSU affiliation\n",
       "Student          0.633927\n",
       "Faculty/Staff    0.585634\n",
       "Alum             0.500622\n",
       "Parent/Family    0.432477\n",
       "Not MSU          0.383931\n",
       "N/A              0.461248\n",
       "Name: Percentage, dtype: object"
      ]
     },
     "metadata": {},
     "output_type": "display_data"
    }
   ],
   "source": [
    "print(\"\\tSUM OF PRE-REGISTRATIONS:\")\n",
    "display(reg_by_name.groupby('MSU affiliation', observed=False)['Preregistered'].sum())\n",
    "print(\"\\tSUM OF ATTENDANCES:\")\n",
    "display(reg_by_name.groupby('MSU affiliation', observed=False)['Attended'].sum())\n",
    "print(\"\\tMEAN ATTENDANCE PERCENTAGE:\")\n",
    "display(reg_by_name.groupby('MSU affiliation', observed=False)['Percentage'].mean())"
   ]
  },
  {
   "cell_type": "code",
   "execution_count": 42,
   "id": "595ff344",
   "metadata": {},
   "outputs": [
    {
     "name": "stderr",
     "output_type": "stream",
     "text": [
      "/opt/anaconda3/lib/python3.11/site-packages/seaborn/categorical.py:641: FutureWarning: The default of observed=False is deprecated and will be changed to True in a future version of pandas. Pass observed=False to retain current behavior or observed=True to adopt the future default and silence this warning.\n",
      "  grouped_vals = vals.groupby(grouper)\n"
     ]
    },
    {
     "data": {
      "image/png": "[encoded data removed]",
      "text/plain": [
       "<Figure size 800x500 with 1 Axes>"
      ]
     },
     "metadata": {},
     "output_type": "display_data"
    }
   ],
   "source": [
    "fig, ax = plt.subplots(figsize=(8,5))\n",
    "sns.set_palette(\"husl\")\n",
    "fig = sns.barplot(data=reg_by_name, x='MSU affiliation', y='Preregistered', estimator=sum, saturation=1, alpha=0.75, errwidth=0)\n",
    "ax.set(xlabel=\"MSU affiliation\", ylabel=\"Number of registrants\")\n",
    "fig.figure.savefig(\"pre-reg_affil_bar.png\", bbox_inches='tight')\n",
    "plt.show()"
   ]
  },
  {
   "cell_type": "code",
   "execution_count": 43,
   "id": "697de9bd",
   "metadata": {},
   "outputs": [],
   "source": [
    "# display(reg_by_name.sort_values(['Attended'], ascending=False).groupby('MSU affiliation', observed=True).head(3))"
   ]
  },
  {
   "cell_type": "code",
   "execution_count": 44,
   "id": "ce4d5160",
   "metadata": {},
   "outputs": [
    {
     "name": "stderr",
     "output_type": "stream",
     "text": [
      "/opt/anaconda3/lib/python3.11/site-packages/seaborn/categorical.py:641: FutureWarning: The default of observed=False is deprecated and will be changed to True in a future version of pandas. Pass observed=False to retain current behavior or observed=True to adopt the future default and silence this warning.\n",
      "  grouped_vals = vals.groupby(grouper)\n"
     ]
    },
    {
     "data": {
      "image/png": "[encoded data removed]",
      "text/plain": [
       "<Figure size 800x500 with 1 Axes>"
      ]
     },
     "metadata": {},
     "output_type": "display_data"
    }
   ],
   "source": [
    "sns.set_palette(\"husl\")\n",
    "fig, ax = plt.subplots(figsize=(8,5))\n",
    "fig = sns.barplot(data=reg_by_name, x='MSU affiliation', y='Percentage', saturation=1, alpha=0.75)\n",
    "ax.set(xlabel=\"MSU affiliation\", ylabel=\"Attendance fraction\", ylim=(0, 0.75))\n",
    "fig.figure.savefig(\"attend_affil_bar.png\", bbox_inches='tight')\n",
    "plt.show()"
   ]
  },
  {
   "cell_type": "markdown",
   "id": "cc1dce66",
   "metadata": {},
   "source": [
    "## Hosts\n",
    "Categorize and sort the attendance by people who 'hosted' (pre-registered others as their guest), and assign it to a new dataframe `hosts`."
   ]
  },
  {
   "cell_type": "code",
   "execution_count": 45,
   "id": "dad508e6",
   "metadata": {},
   "outputs": [
    {
     "name": "stdout",
     "output_type": "stream",
     "text": [
      "Number of unique people who pre-registered guests: 361\n"
     ]
    }
   ],
   "source": [
    "hosts = pd.DataFrame(columns=('Name', 'Attended', 'Preregistered', 'Percentage', 'MSU affiliation'))\n",
    "hosts['Name'] = registrants['Host name'][registrants['Host name'].notnull()].unique()\n",
    "for i in range(len(hosts)):\n",
    "    h = registrants['Visitor name'] == hosts['Name'][i]\n",
    "    t1 = registrants['MSU affiliation'][h & registrants['MSU affiliation'][h].notnull()].unique()\n",
    "    if len(t1) > 1 and \"N/A\" in t1:\n",
    "        hosts['MSU affiliation'][i] = np.delete(t1, np.where(t1 == 'N/A'))[0]\n",
    "    elif len(t1) == 1:\n",
    "        hosts['MSU affiliation'][i] = t1[0]\n",
    "    else:\n",
    "        hosts['MSU affiliation'][i] = np.nan\n",
    "    t2 = registrants['Attended'][h]\n",
    "    hosts['Attended'][i] = sum(registrants['Attended'][h])\n",
    "    hosts['Preregistered'][i] = sum(h)\n",
    "hosts['Percentage'] = hosts['Attended'] / hosts['Preregistered']\n",
    "print(\"Number of unique people who pre-registered guests: %d\" % len(hosts))"
   ]
  },
  {
   "cell_type": "code",
   "execution_count": 46,
   "id": "458da824",
   "metadata": {},
   "outputs": [
    {
     "name": "stdout",
     "output_type": "stream",
     "text": [
      "\tSUM OF PRE-REGISTRATIONS:\n"
     ]
    },
    {
     "data": {
      "text/plain": [
       "MSU affiliation\n",
       "Alum             112\n",
       "Faculty/Staff    117\n",
       "N/A               55\n",
       "Not MSU          117\n",
       "Parent/Family     30\n",
       "Student           65\n",
       "Name: Preregistered, dtype: object"
      ]
     },
     "metadata": {},
     "output_type": "display_data"
    }
   ],
   "source": [
    "print(\"\\tSUM OF PRE-REGISTRATIONS:\")\n",
    "display(hosts.groupby('MSU affiliation', observed=False)['Preregistered'].sum())"
   ]
  },
  {
   "cell_type": "code",
   "execution_count": 47,
   "id": "bd4bc9bb",
   "metadata": {},
   "outputs": [
    {
     "name": "stderr",
     "output_type": "stream",
     "text": [
      "/opt/anaconda3/lib/python3.11/site-packages/seaborn/_oldcore.py:1119: FutureWarning: use_inf_as_na option is deprecated and will be removed in a future version. Convert inf values to NaN before operating instead.\n",
      "  with pd.option_context('mode.use_inf_as_na', True):\n",
      "/opt/anaconda3/lib/python3.11/site-packages/seaborn/_oldcore.py:1057: FutureWarning: The default of observed=False is deprecated and will be changed to True in a future version of pandas. Pass observed=False to retain current behavior or observed=True to adopt the future default and silence this warning.\n",
      "  grouped_data = data.groupby(\n"
     ]
    },
    {
     "data": {
      "image/png": "[encoded data removed]",
      "text/plain": [
       "<Figure size 800x500 with 1 Axes>"
      ]
     },
     "metadata": {},
     "output_type": "display_data"
    }
   ],
   "source": [
    "sns.set_palette(\"husl\")\n",
    "# sns.set_style(\"ticks\")\n",
    "hosts['MSU affiliation'] = pd.Categorical(hosts['MSU affiliation'], categories=affil_cats, ordered=True)\n",
    "fig, ax = plt.subplots(figsize=(8,5))\n",
    "fig = sns.histplot(data=hosts.sort_values('MSU affiliation'), x='MSU affiliation', hue='MSU affiliation', legend=False, alpha=0.75)\n",
    "ax.set(xlabel=\"Host's MSU affiliation\", ylabel=\"Number of guests registered\")\n",
    "fig.figure.savefig(\"pre-reg_guests_affil_bar.png\", bbox_inches='tight')\n",
    "plt.show()"
   ]
  },
  {
   "cell_type": "code",
   "execution_count": 48,
   "id": "5b134c7b",
   "metadata": {},
   "outputs": [
    {
     "name": "stdout",
     "output_type": "stream",
     "text": [
      "\tMEAN GUEST ATTENDANCE PERCENTAGE by MSU HOST AFFILIATION:\n"
     ]
    },
    {
     "data": {
      "text/plain": [
       "MSU affiliation\n",
       "Student          0.523636\n",
       "Faculty/Staff    0.530405\n",
       "Alum             0.483981\n",
       "Parent/Family    0.188095\n",
       "Not MSU          0.333943\n",
       "N/A              0.481481\n",
       "Name: Percentage, dtype: object"
      ]
     },
     "metadata": {},
     "output_type": "display_data"
    },
    {
     "name": "stdout",
     "output_type": "stream",
     "text": [
      "\tSUM OF ATTENDANCES:\n"
     ]
    },
    {
     "data": {
      "text/plain": [
       "MSU affiliation\n",
       "Student          36\n",
       "Faculty/Staff    60\n",
       "Alum             60\n",
       "Parent/Family     6\n",
       "Not MSU          40\n",
       "N/A              26\n",
       "Name: Attended, dtype: object"
      ]
     },
     "metadata": {},
     "output_type": "display_data"
    }
   ],
   "source": [
    "print(\"\\tMEAN GUEST ATTENDANCE PERCENTAGE by MSU HOST AFFILIATION:\")\n",
    "display(hosts.groupby('MSU affiliation', observed=False)['Percentage'].mean())\n",
    "print(\"\\tSUM OF ATTENDANCES:\")\n",
    "display(hosts.groupby('MSU affiliation', observed=False)['Attended'].sum())"
   ]
  },
  {
   "cell_type": "code",
   "execution_count": 49,
   "id": "497476a0",
   "metadata": {},
   "outputs": [
    {
     "name": "stderr",
     "output_type": "stream",
     "text": [
      "/opt/anaconda3/lib/python3.11/site-packages/seaborn/categorical.py:641: FutureWarning: The default of observed=False is deprecated and will be changed to True in a future version of pandas. Pass observed=False to retain current behavior or observed=True to adopt the future default and silence this warning.\n",
      "  grouped_vals = vals.groupby(grouper)\n"
     ]
    },
    {
     "data": {
      "image/png": "[encoded data removed]",
      "text/plain": [
       "<Figure size 800x500 with 1 Axes>"
      ]
     },
     "metadata": {},
     "output_type": "display_data"
    }
   ],
   "source": [
    "sns.set_palette(\"husl\")\n",
    "fig, ax = plt.subplots(figsize=(8,5))\n",
    "fig = sns.barplot(data=hosts.sort_values('MSU affiliation'), x='MSU affiliation', y='Percentage', saturation=1, alpha=0.75)\n",
    "ax.set(xlabel=\"Host's MSU affiliation\", ylabel=\"Guest attendance fraction\", ylim=(0, 0.75))\n",
    "fig.figure.savefig(\"attend_guest_affil_bar.png\", bbox_inches='tight')\n",
    "plt.show()"
   ]
  },
  {
   "cell_type": "code",
   "execution_count": null,
   "id": "ff8c67eb",
   "metadata": {},
   "outputs": [],
   "source": []
  }
 ],
 "metadata": {
  "kernelspec": {
   "display_name": "Python 3 (ipykernel)",
   "language": "python",
   "name": "python3"
  },
  "language_info": {
   "codemirror_mode": {
    "name": "ipython",
    "version": 3
   },
   "file_extension": ".py",
   "mimetype": "text/x-python",
   "name": "python",
   "nbconvert_exporter": "python",
   "pygments_lexer": "ipython3",
   "version": "3.11.7"
  }
 },
 "nbformat": 4,
 "nbformat_minor": 5
}
